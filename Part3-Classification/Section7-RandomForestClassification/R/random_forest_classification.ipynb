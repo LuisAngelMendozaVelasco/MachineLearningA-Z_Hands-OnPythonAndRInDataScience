{
 "cells": [
  {
   "cell_type": "markdown",
   "metadata": {},
   "source": [
    "## Random Forest Classification"
   ]
  },
  {
   "cell_type": "markdown",
   "metadata": {},
   "source": [
    "## Importing the dataset"
   ]
  },
  {
   "cell_type": "code",
   "execution_count": 2,
   "metadata": {
    "vscode": {
     "languageId": "r"
    }
   },
   "outputs": [
    {
     "data": {
      "text/html": [
       "<table>\n",
       "<thead><tr><th scope=col>Age</th><th scope=col>EstimatedSalary</th><th scope=col>Purchased</th></tr></thead>\n",
       "<tbody>\n",
       "\t<tr><td>19   </td><td>19000</td><td>0    </td></tr>\n",
       "\t<tr><td>35   </td><td>20000</td><td>0    </td></tr>\n",
       "\t<tr><td>26   </td><td>43000</td><td>0    </td></tr>\n",
       "\t<tr><td>27   </td><td>57000</td><td>0    </td></tr>\n",
       "\t<tr><td>19   </td><td>76000</td><td>0    </td></tr>\n",
       "\t<tr><td>27   </td><td>58000</td><td>0    </td></tr>\n",
       "</tbody>\n",
       "</table>\n"
      ],
      "text/latex": [
       "\\begin{tabular}{r|lll}\n",
       " Age & EstimatedSalary & Purchased\\\\\n",
       "\\hline\n",
       "\t 19    & 19000 & 0    \\\\\n",
       "\t 35    & 20000 & 0    \\\\\n",
       "\t 26    & 43000 & 0    \\\\\n",
       "\t 27    & 57000 & 0    \\\\\n",
       "\t 19    & 76000 & 0    \\\\\n",
       "\t 27    & 58000 & 0    \\\\\n",
       "\\end{tabular}\n"
      ],
      "text/markdown": [
       "\n",
       "| Age | EstimatedSalary | Purchased |\n",
       "|---|---|---|\n",
       "| 19    | 19000 | 0     |\n",
       "| 35    | 20000 | 0     |\n",
       "| 26    | 43000 | 0     |\n",
       "| 27    | 57000 | 0     |\n",
       "| 19    | 76000 | 0     |\n",
       "| 27    | 58000 | 0     |\n",
       "\n"
      ],
      "text/plain": [
       "  Age EstimatedSalary Purchased\n",
       "1 19  19000           0        \n",
       "2 35  20000           0        \n",
       "3 26  43000           0        \n",
       "4 27  57000           0        \n",
       "5 19  76000           0        \n",
       "6 27  58000           0        "
      ]
     },
     "metadata": {},
     "output_type": "display_data"
    }
   ],
   "source": [
    "dataset = read.csv('Social_Network_Ads.csv')\n",
    "dataset = dataset[3:5]\n",
    "head(dataset)"
   ]
  },
  {
   "cell_type": "markdown",
   "metadata": {},
   "source": [
    "## Encoding the target feature as factor"
   ]
  },
  {
   "cell_type": "code",
   "execution_count": 4,
   "metadata": {
    "vscode": {
     "languageId": "r"
    }
   },
   "outputs": [
    {
     "data": {
      "text/html": [
       "<table>\n",
       "<thead><tr><th scope=col>Age</th><th scope=col>EstimatedSalary</th><th scope=col>Purchased</th></tr></thead>\n",
       "<tbody>\n",
       "\t<tr><td>19   </td><td>19000</td><td>0    </td></tr>\n",
       "\t<tr><td>35   </td><td>20000</td><td>0    </td></tr>\n",
       "\t<tr><td>26   </td><td>43000</td><td>0    </td></tr>\n",
       "\t<tr><td>27   </td><td>57000</td><td>0    </td></tr>\n",
       "\t<tr><td>19   </td><td>76000</td><td>0    </td></tr>\n",
       "\t<tr><td>27   </td><td>58000</td><td>0    </td></tr>\n",
       "</tbody>\n",
       "</table>\n"
      ],
      "text/latex": [
       "\\begin{tabular}{r|lll}\n",
       " Age & EstimatedSalary & Purchased\\\\\n",
       "\\hline\n",
       "\t 19    & 19000 & 0    \\\\\n",
       "\t 35    & 20000 & 0    \\\\\n",
       "\t 26    & 43000 & 0    \\\\\n",
       "\t 27    & 57000 & 0    \\\\\n",
       "\t 19    & 76000 & 0    \\\\\n",
       "\t 27    & 58000 & 0    \\\\\n",
       "\\end{tabular}\n"
      ],
      "text/markdown": [
       "\n",
       "| Age | EstimatedSalary | Purchased |\n",
       "|---|---|---|\n",
       "| 19    | 19000 | 0     |\n",
       "| 35    | 20000 | 0     |\n",
       "| 26    | 43000 | 0     |\n",
       "| 27    | 57000 | 0     |\n",
       "| 19    | 76000 | 0     |\n",
       "| 27    | 58000 | 0     |\n",
       "\n"
      ],
      "text/plain": [
       "  Age EstimatedSalary Purchased\n",
       "1 19  19000           0        \n",
       "2 35  20000           0        \n",
       "3 26  43000           0        \n",
       "4 27  57000           0        \n",
       "5 19  76000           0        \n",
       "6 27  58000           0        "
      ]
     },
     "metadata": {},
     "output_type": "display_data"
    }
   ],
   "source": [
    "dataset$Purchased = factor(dataset$Purchased, levels=c(0, 1))\n",
    "head(dataset)"
   ]
  },
  {
   "cell_type": "markdown",
   "metadata": {},
   "source": [
    "## Splitting the dataset into the Training set and Test set"
   ]
  },
  {
   "cell_type": "code",
   "execution_count": 5,
   "metadata": {
    "vscode": {
     "languageId": "r"
    }
   },
   "outputs": [
    {
     "name": "stderr",
     "output_type": "stream",
     "text": [
      "Warning message:\n",
      "\"package 'caTools' was built under R version 3.6.3\""
     ]
    }
   ],
   "source": [
    "library(caTools)\n",
    "set.seed(123)\n",
    "\n",
    "split = sample.split(dataset$Purchased, SplitRatio=0.75)\n",
    "training_set = subset(dataset, split == TRUE)\n",
    "test_set = subset(dataset, split == FALSE)"
   ]
  },
  {
   "cell_type": "markdown",
   "metadata": {},
   "source": [
    "## Feature Scaling"
   ]
  },
  {
   "cell_type": "code",
   "execution_count": 6,
   "metadata": {
    "vscode": {
     "languageId": "r"
    }
   },
   "outputs": [],
   "source": [
    "training_set[-3] = scale(training_set[-3])\n",
    "test_set[-3] = scale(test_set[-3])"
   ]
  },
  {
   "cell_type": "code",
   "execution_count": 7,
   "metadata": {
    "vscode": {
     "languageId": "r"
    }
   },
   "outputs": [
    {
     "data": {
      "text/html": [
       "<table>\n",
       "<thead><tr><th></th><th scope=col>Age</th><th scope=col>EstimatedSalary</th><th scope=col>Purchased</th></tr></thead>\n",
       "<tbody>\n",
       "\t<tr><th scope=row>1</th><td>-1.7655475</td><td>-1.4733414</td><td>0         </td></tr>\n",
       "\t<tr><th scope=row>3</th><td>-1.0962966</td><td>-0.7883761</td><td>0         </td></tr>\n",
       "\t<tr><th scope=row>6</th><td>-1.0006894</td><td>-0.3602727</td><td>0         </td></tr>\n",
       "\t<tr><th scope=row>7</th><td>-1.0006894</td><td> 0.3817730</td><td>0         </td></tr>\n",
       "\t<tr><th scope=row>8</th><td>-0.5226531</td><td> 2.2654277</td><td>1         </td></tr>\n",
       "\t<tr><th scope=row>10</th><td>-0.2358313</td><td>-0.1604912</td><td>0         </td></tr>\n",
       "</tbody>\n",
       "</table>\n"
      ],
      "text/latex": [
       "\\begin{tabular}{r|lll}\n",
       "  & Age & EstimatedSalary & Purchased\\\\\n",
       "\\hline\n",
       "\t1 & -1.7655475 & -1.4733414 & 0         \\\\\n",
       "\t3 & -1.0962966 & -0.7883761 & 0         \\\\\n",
       "\t6 & -1.0006894 & -0.3602727 & 0         \\\\\n",
       "\t7 & -1.0006894 &  0.3817730 & 0         \\\\\n",
       "\t8 & -0.5226531 &  2.2654277 & 1         \\\\\n",
       "\t10 & -0.2358313 & -0.1604912 & 0         \\\\\n",
       "\\end{tabular}\n"
      ],
      "text/markdown": [
       "\n",
       "| <!--/--> | Age | EstimatedSalary | Purchased |\n",
       "|---|---|---|---|\n",
       "| 1 | -1.7655475 | -1.4733414 | 0          |\n",
       "| 3 | -1.0962966 | -0.7883761 | 0          |\n",
       "| 6 | -1.0006894 | -0.3602727 | 0          |\n",
       "| 7 | -1.0006894 |  0.3817730 | 0          |\n",
       "| 8 | -0.5226531 |  2.2654277 | 1          |\n",
       "| 10 | -0.2358313 | -0.1604912 | 0          |\n",
       "\n"
      ],
      "text/plain": [
       "   Age        EstimatedSalary Purchased\n",
       "1  -1.7655475 -1.4733414      0        \n",
       "3  -1.0962966 -0.7883761      0        \n",
       "6  -1.0006894 -0.3602727      0        \n",
       "7  -1.0006894  0.3817730      0        \n",
       "8  -0.5226531  2.2654277      1        \n",
       "10 -0.2358313 -0.1604912      0        "
      ]
     },
     "metadata": {},
     "output_type": "display_data"
    },
    {
     "data": {
      "text/html": [
       "<table>\n",
       "<thead><tr><th></th><th scope=col>Age</th><th scope=col>EstimatedSalary</th><th scope=col>Purchased</th></tr></thead>\n",
       "<tbody>\n",
       "\t<tr><th scope=row>2</th><td>-0.3041906</td><td>-1.5135434</td><td>0         </td></tr>\n",
       "\t<tr><th scope=row>4</th><td>-1.0599437</td><td>-0.3245603</td><td>0         </td></tr>\n",
       "\t<tr><th scope=row>5</th><td>-1.8156969</td><td> 0.2859986</td><td>0         </td></tr>\n",
       "\t<tr><th scope=row>9</th><td>-1.2488820</td><td>-1.0957926</td><td>0         </td></tr>\n",
       "\t<tr><th scope=row>12</th><td>-1.1544129</td><td>-0.4852337</td><td>0         </td></tr>\n",
       "\t<tr><th scope=row>18</th><td> 0.6405008</td><td>-1.3207353</td><td>1         </td></tr>\n",
       "</tbody>\n",
       "</table>\n"
      ],
      "text/latex": [
       "\\begin{tabular}{r|lll}\n",
       "  & Age & EstimatedSalary & Purchased\\\\\n",
       "\\hline\n",
       "\t2 & -0.3041906 & -1.5135434 & 0         \\\\\n",
       "\t4 & -1.0599437 & -0.3245603 & 0         \\\\\n",
       "\t5 & -1.8156969 &  0.2859986 & 0         \\\\\n",
       "\t9 & -1.2488820 & -1.0957926 & 0         \\\\\n",
       "\t12 & -1.1544129 & -0.4852337 & 0         \\\\\n",
       "\t18 &  0.6405008 & -1.3207353 & 1         \\\\\n",
       "\\end{tabular}\n"
      ],
      "text/markdown": [
       "\n",
       "| <!--/--> | Age | EstimatedSalary | Purchased |\n",
       "|---|---|---|---|\n",
       "| 2 | -0.3041906 | -1.5135434 | 0          |\n",
       "| 4 | -1.0599437 | -0.3245603 | 0          |\n",
       "| 5 | -1.8156969 |  0.2859986 | 0          |\n",
       "| 9 | -1.2488820 | -1.0957926 | 0          |\n",
       "| 12 | -1.1544129 | -0.4852337 | 0          |\n",
       "| 18 |  0.6405008 | -1.3207353 | 1          |\n",
       "\n"
      ],
      "text/plain": [
       "   Age        EstimatedSalary Purchased\n",
       "2  -0.3041906 -1.5135434      0        \n",
       "4  -1.0599437 -0.3245603      0        \n",
       "5  -1.8156969  0.2859986      0        \n",
       "9  -1.2488820 -1.0957926      0        \n",
       "12 -1.1544129 -0.4852337      0        \n",
       "18  0.6405008 -1.3207353      1        "
      ]
     },
     "metadata": {},
     "output_type": "display_data"
    }
   ],
   "source": [
    "head(training_set)\n",
    "head(test_set)"
   ]
  },
  {
   "cell_type": "markdown",
   "metadata": {},
   "source": [
    "## Fitting Random Forest Classification to the Training set"
   ]
  },
  {
   "cell_type": "code",
   "execution_count": 8,
   "metadata": {
    "vscode": {
     "languageId": "r"
    }
   },
   "outputs": [
    {
     "name": "stderr",
     "output_type": "stream",
     "text": [
      "randomForest 4.6-14\n",
      "Type rfNews() to see new features/changes/bug fixes.\n"
     ]
    }
   ],
   "source": [
    "library(randomForest)\n",
    "set.seed(123)\n",
    "\n",
    "classifier = randomForest(x=training_set[-3],\n",
    "                          y=training_set$Purchased,\n",
    "                          ntree=500)"
   ]
  },
  {
   "cell_type": "markdown",
   "metadata": {},
   "source": [
    "## Predicting the Test set results"
   ]
  },
  {
   "cell_type": "code",
   "execution_count": 10,
   "metadata": {
    "vscode": {
     "languageId": "r"
    }
   },
   "outputs": [
    {
     "data": {
      "text/html": [
       "<table>\n",
       "<thead><tr><th></th><th scope=col>Purchased</th><th scope=col>y_pred</th></tr></thead>\n",
       "<tbody>\n",
       "\t<tr><th scope=row>2</th><td>0</td><td>0</td></tr>\n",
       "\t<tr><th scope=row>4</th><td>0</td><td>0</td></tr>\n",
       "\t<tr><th scope=row>5</th><td>0</td><td>0</td></tr>\n",
       "\t<tr><th scope=row>9</th><td>0</td><td>0</td></tr>\n",
       "\t<tr><th scope=row>12</th><td>0</td><td>0</td></tr>\n",
       "\t<tr><th scope=row>18</th><td>1</td><td>0</td></tr>\n",
       "</tbody>\n",
       "</table>\n"
      ],
      "text/latex": [
       "\\begin{tabular}{r|ll}\n",
       "  & Purchased & y\\_pred\\\\\n",
       "\\hline\n",
       "\t2 & 0 & 0\\\\\n",
       "\t4 & 0 & 0\\\\\n",
       "\t5 & 0 & 0\\\\\n",
       "\t9 & 0 & 0\\\\\n",
       "\t12 & 0 & 0\\\\\n",
       "\t18 & 1 & 0\\\\\n",
       "\\end{tabular}\n"
      ],
      "text/markdown": [
       "\n",
       "| <!--/--> | Purchased | y_pred |\n",
       "|---|---|---|\n",
       "| 2 | 0 | 0 |\n",
       "| 4 | 0 | 0 |\n",
       "| 5 | 0 | 0 |\n",
       "| 9 | 0 | 0 |\n",
       "| 12 | 0 | 0 |\n",
       "| 18 | 1 | 0 |\n",
       "\n"
      ],
      "text/plain": [
       "   Purchased y_pred\n",
       "2  0         0     \n",
       "4  0         0     \n",
       "5  0         0     \n",
       "9  0         0     \n",
       "12 0         0     \n",
       "18 1         0     "
      ]
     },
     "metadata": {},
     "output_type": "display_data"
    }
   ],
   "source": [
    "y_pred = predict(classifier, newdata=test_set[-3])\n",
    "head(data.frame(y_test=test_set[3], y_pred=y_pred))"
   ]
  },
  {
   "cell_type": "markdown",
   "metadata": {},
   "source": [
    "## Making the Confusion Matrix"
   ]
  },
  {
   "cell_type": "code",
   "execution_count": 11,
   "metadata": {
    "vscode": {
     "languageId": "r"
    }
   },
   "outputs": [
    {
     "data": {
      "text/plain": [
       "   y_pred\n",
       "     0  1\n",
       "  0 56  8\n",
       "  1  7 29"
      ]
     },
     "metadata": {},
     "output_type": "display_data"
    }
   ],
   "source": [
    "cm = table(test_set[, 3], y_pred)\n",
    "cm"
   ]
  },
  {
   "cell_type": "markdown",
   "metadata": {},
   "source": [
    "## Visualising the Training set results"
   ]
  },
  {
   "cell_type": "code",
   "execution_count": 12,
   "metadata": {
    "vscode": {
     "languageId": "r"
    }
   },
   "outputs": [
    {
     "data": {
      "image/png": "[encoded data removed]",
      "text/plain": [
       "Plot with title \"Random Forest Classification (Training set)\""
      ]
     },
     "metadata": {},
     "output_type": "display_data"
    }
   ],
   "source": [
    "set = training_set\n",
    "X1 = seq(min(set[, 1]) - 1, max(set[, 1]) + 1, by=0.01)\n",
    "X2 = seq(min(set[, 2]) - 1, max(set[, 2]) + 1, by=0.01)\n",
    "grid_set = expand.grid(X1, X2)\n",
    "colnames(grid_set) = c('Age', 'EstimatedSalary')\n",
    "y_grid = predict(classifier, grid_set)\n",
    "\n",
    "plot(set[, -3],\n",
    "     main='Random Forest Classification (Training set)',\n",
    "     xlab='Age', ylab='Estimated Salary',\n",
    "     xlim=range(X1), ylim=range(X2))\n",
    "contour(X1, X2, matrix(as.numeric(y_grid), length(X1), length(X2)), add=TRUE)\n",
    "points(grid_set, pch='.', col=ifelse(y_grid == 1, 'dodgerblue', 'salmon'))\n",
    "points(set, pch=21, bg=ifelse(set[, 3] == 1, 'dodgerblue3', 'salmon3'))"
   ]
  },
  {
   "cell_type": "markdown",
   "metadata": {},
   "source": [
    "## Visualising the Test set results"
   ]
  },
  {
   "cell_type": "code",
   "execution_count": 13,
   "metadata": {
    "vscode": {
     "languageId": "r"
    }
   },
   "outputs": [
    {
     "data": {
      "image/png": "[encoded data removed]",
      "text/plain": [
       "Plot with title \"Random Forest Classification (Test set)\""
      ]
     },
     "metadata": {},
     "output_type": "display_data"
    }
   ],
   "source": [
    "set = test_set\n",
    "X1 = seq(min(set[, 1]) - 1, max(set[, 1]) + 1, by=0.01)\n",
    "X2 = seq(min(set[, 2]) - 1, max(set[, 2]) + 1, by=0.01)\n",
    "grid_set = expand.grid(X1, X2)\n",
    "colnames(grid_set) = c('Age', 'EstimatedSalary')\n",
    "y_grid = predict(classifier, grid_set)\n",
    "\n",
    "plot(set[, -3], main='Random Forest Classification (Test set)',\n",
    "     xlab='Age', ylab='Estimated Salary',\n",
    "     xlim=range(X1), ylim=range(X2))\n",
    "contour(X1, X2, matrix(as.numeric(y_grid), length(X1), length(X2)), add=TRUE)\n",
    "points(grid_set, pch='.', col=ifelse(y_grid == 1, 'dodgerblue', 'salmon'))\n",
    "points(set, pch=21, bg=ifelse(set[, 3] == 1, 'dodgerblue3', 'salmon3'))"
   ]
  },
  {
   "cell_type": "markdown",
   "metadata": {},
   "source": [
    "## Choosing the number of trees"
   ]
  },
  {
   "cell_type": "code",
   "execution_count": 14,
   "metadata": {
    "vscode": {
     "languageId": "r"
    }
   },
   "outputs": [
    {
     "data": {
      "image/png": "[encoded data removed]",
      "text/plain": [
       "Plot with title \"classifier\""
      ]
     },
     "metadata": {},
     "output_type": "display_data"
    }
   ],
   "source": [
    "plot(classifier)"
   ]
  }
 ],
 "metadata": {
  "kernelspec": {
   "display_name": "R",
   "language": "R",
   "name": "ir"
  },
  "language_info": {
   "codemirror_mode": "r",
   "file_extension": ".r",
   "mimetype": "text/x-r-source",
   "name": "R",
   "pygments_lexer": "r",
   "version": "3.6.1"
  },
  "orig_nbformat": 4,
  "vscode": {
   "interpreter": {
    "hash": "3cfd106f785ae1e288da74ae733f9b47f8a2699db986927140be0bc196406f4c"
   }
  }
 },
 "nbformat": 4,
 "nbformat_minor": 2
}
