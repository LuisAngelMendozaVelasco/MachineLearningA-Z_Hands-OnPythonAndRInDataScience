{
 "cells": [
  {
   "cell_type": "markdown",
   "metadata": {},
   "source": [
    "# Logistic Regression"
   ]
  },
  {
   "cell_type": "markdown",
   "metadata": {},
   "source": [
    "## Importing the dataset"
   ]
  },
  {
   "cell_type": "code",
   "execution_count": 3,
   "metadata": {
    "vscode": {
     "languageId": "r"
    }
   },
   "outputs": [
    {
     "data": {
      "text/html": [
       "<table>\n",
       "<thead><tr><th scope=col>Age</th><th scope=col>EstimatedSalary</th><th scope=col>Purchased</th></tr></thead>\n",
       "<tbody>\n",
       "\t<tr><td>19   </td><td>19000</td><td>0    </td></tr>\n",
       "\t<tr><td>35   </td><td>20000</td><td>0    </td></tr>\n",
       "\t<tr><td>26   </td><td>43000</td><td>0    </td></tr>\n",
       "\t<tr><td>27   </td><td>57000</td><td>0    </td></tr>\n",
       "\t<tr><td>19   </td><td>76000</td><td>0    </td></tr>\n",
       "\t<tr><td>27   </td><td>58000</td><td>0    </td></tr>\n",
       "</tbody>\n",
       "</table>\n"
      ],
      "text/latex": [
       "\\begin{tabular}{r|lll}\n",
       " Age & EstimatedSalary & Purchased\\\\\n",
       "\\hline\n",
       "\t 19    & 19000 & 0    \\\\\n",
       "\t 35    & 20000 & 0    \\\\\n",
       "\t 26    & 43000 & 0    \\\\\n",
       "\t 27    & 57000 & 0    \\\\\n",
       "\t 19    & 76000 & 0    \\\\\n",
       "\t 27    & 58000 & 0    \\\\\n",
       "\\end{tabular}\n"
      ],
      "text/markdown": [
       "\n",
       "| Age | EstimatedSalary | Purchased |\n",
       "|---|---|---|\n",
       "| 19    | 19000 | 0     |\n",
       "| 35    | 20000 | 0     |\n",
       "| 26    | 43000 | 0     |\n",
       "| 27    | 57000 | 0     |\n",
       "| 19    | 76000 | 0     |\n",
       "| 27    | 58000 | 0     |\n",
       "\n"
      ],
      "text/plain": [
       "  Age EstimatedSalary Purchased\n",
       "1 19  19000           0        \n",
       "2 35  20000           0        \n",
       "3 26  43000           0        \n",
       "4 27  57000           0        \n",
       "5 19  76000           0        \n",
       "6 27  58000           0        "
      ]
     },
     "metadata": {},
     "output_type": "display_data"
    }
   ],
   "source": [
    "dataset = read.csv('Social_Network_Ads.csv')\n",
    "dataset = dataset[3:5]\n",
    "head(dataset)"
   ]
  },
  {
   "cell_type": "markdown",
   "metadata": {},
   "source": [
    "## Splitting the dataset into the Training set and Test set"
   ]
  },
  {
   "cell_type": "code",
   "execution_count": 4,
   "metadata": {
    "vscode": {
     "languageId": "r"
    }
   },
   "outputs": [
    {
     "name": "stderr",
     "output_type": "stream",
     "text": [
      "Warning message:\n",
      "\"package 'caTools' was built under R version 3.6.3\""
     ]
    }
   ],
   "source": [
    "library(caTools)\n",
    "set.seed(123)\n",
    "\n",
    "split = sample.split(dataset$Purchased, SplitRatio=0.75)\n",
    "training_set = subset(dataset, split==TRUE)\n",
    "test_set = subset(dataset, split==FALSE)"
   ]
  },
  {
   "cell_type": "markdown",
   "metadata": {},
   "source": [
    "## Feature Scaling"
   ]
  },
  {
   "cell_type": "code",
   "execution_count": 5,
   "metadata": {
    "vscode": {
     "languageId": "r"
    }
   },
   "outputs": [],
   "source": [
    "training_set[-3] = scale(training_set[-3])\n",
    "test_set[-3] = scale(test_set[-3])"
   ]
  },
  {
   "cell_type": "code",
   "execution_count": 6,
   "metadata": {
    "vscode": {
     "languageId": "r"
    }
   },
   "outputs": [
    {
     "data": {
      "text/html": [
       "<table>\n",
       "<thead><tr><th></th><th scope=col>Age</th><th scope=col>EstimatedSalary</th><th scope=col>Purchased</th></tr></thead>\n",
       "<tbody>\n",
       "\t<tr><th scope=row>1</th><td>-1.7655475</td><td>-1.4733414</td><td>0         </td></tr>\n",
       "\t<tr><th scope=row>3</th><td>-1.0962966</td><td>-0.7883761</td><td>0         </td></tr>\n",
       "\t<tr><th scope=row>6</th><td>-1.0006894</td><td>-0.3602727</td><td>0         </td></tr>\n",
       "\t<tr><th scope=row>7</th><td>-1.0006894</td><td> 0.3817730</td><td>0         </td></tr>\n",
       "\t<tr><th scope=row>8</th><td>-0.5226531</td><td> 2.2654277</td><td>1         </td></tr>\n",
       "\t<tr><th scope=row>10</th><td>-0.2358313</td><td>-0.1604912</td><td>0         </td></tr>\n",
       "</tbody>\n",
       "</table>\n"
      ],
      "text/latex": [
       "\\begin{tabular}{r|lll}\n",
       "  & Age & EstimatedSalary & Purchased\\\\\n",
       "\\hline\n",
       "\t1 & -1.7655475 & -1.4733414 & 0         \\\\\n",
       "\t3 & -1.0962966 & -0.7883761 & 0         \\\\\n",
       "\t6 & -1.0006894 & -0.3602727 & 0         \\\\\n",
       "\t7 & -1.0006894 &  0.3817730 & 0         \\\\\n",
       "\t8 & -0.5226531 &  2.2654277 & 1         \\\\\n",
       "\t10 & -0.2358313 & -0.1604912 & 0         \\\\\n",
       "\\end{tabular}\n"
      ],
      "text/markdown": [
       "\n",
       "| <!--/--> | Age | EstimatedSalary | Purchased |\n",
       "|---|---|---|---|\n",
       "| 1 | -1.7655475 | -1.4733414 | 0          |\n",
       "| 3 | -1.0962966 | -0.7883761 | 0          |\n",
       "| 6 | -1.0006894 | -0.3602727 | 0          |\n",
       "| 7 | -1.0006894 |  0.3817730 | 0          |\n",
       "| 8 | -0.5226531 |  2.2654277 | 1          |\n",
       "| 10 | -0.2358313 | -0.1604912 | 0          |\n",
       "\n"
      ],
      "text/plain": [
       "   Age        EstimatedSalary Purchased\n",
       "1  -1.7655475 -1.4733414      0        \n",
       "3  -1.0962966 -0.7883761      0        \n",
       "6  -1.0006894 -0.3602727      0        \n",
       "7  -1.0006894  0.3817730      0        \n",
       "8  -0.5226531  2.2654277      1        \n",
       "10 -0.2358313 -0.1604912      0        "
      ]
     },
     "metadata": {},
     "output_type": "display_data"
    }
   ],
   "source": [
    "head(training_set)"
   ]
  },
  {
   "cell_type": "markdown",
   "metadata": {},
   "source": [
    "## Fitting Logistic Regression to the Training set"
   ]
  },
  {
   "cell_type": "code",
   "execution_count": 8,
   "metadata": {
    "vscode": {
     "languageId": "r"
    }
   },
   "outputs": [
    {
     "data": {
      "text/plain": [
       "\n",
       "Call:  glm(formula = Purchased ~ ., family = binomial, data = training_set)\n",
       "\n",
       "Coefficients:\n",
       "    (Intercept)              Age  EstimatedSalary  \n",
       "         -1.192            2.632            1.395  \n",
       "\n",
       "Degrees of Freedom: 299 Total (i.e. Null);  297 Residual\n",
       "Null Deviance:\t    390.9 \n",
       "Residual Deviance: 199.8 \tAIC: 205.8"
      ]
     },
     "metadata": {},
     "output_type": "display_data"
    }
   ],
   "source": [
    "classifier = glm(formula=Purchased ~ .,\n",
    "                 family=binomial,\n",
    "                 data=training_set)\n",
    "classifier"
   ]
  },
  {
   "cell_type": "markdown",
   "metadata": {},
   "source": [
    "## Predicting the Test set results"
   ]
  },
  {
   "cell_type": "code",
   "execution_count": 12,
   "metadata": {
    "vscode": {
     "languageId": "r"
    }
   },
   "outputs": [
    {
     "data": {
      "text/html": [
       "<table>\n",
       "<thead><tr><th></th><th scope=col>y_test</th><th scope=col>y_pred</th></tr></thead>\n",
       "<tbody>\n",
       "\t<tr><th scope=row>2</th><td>0</td><td>0</td></tr>\n",
       "\t<tr><th scope=row>4</th><td>0</td><td>0</td></tr>\n",
       "\t<tr><th scope=row>5</th><td>0</td><td>0</td></tr>\n",
       "\t<tr><th scope=row>9</th><td>0</td><td>0</td></tr>\n",
       "\t<tr><th scope=row>12</th><td>0</td><td>0</td></tr>\n",
       "\t<tr><th scope=row>18</th><td>1</td><td>0</td></tr>\n",
       "</tbody>\n",
       "</table>\n"
      ],
      "text/latex": [
       "\\begin{tabular}{r|ll}\n",
       "  & y\\_test & y\\_pred\\\\\n",
       "\\hline\n",
       "\t2 & 0 & 0\\\\\n",
       "\t4 & 0 & 0\\\\\n",
       "\t5 & 0 & 0\\\\\n",
       "\t9 & 0 & 0\\\\\n",
       "\t12 & 0 & 0\\\\\n",
       "\t18 & 1 & 0\\\\\n",
       "\\end{tabular}\n"
      ],
      "text/markdown": [
       "\n",
       "| <!--/--> | y_test | y_pred |\n",
       "|---|---|---|\n",
       "| 2 | 0 | 0 |\n",
       "| 4 | 0 | 0 |\n",
       "| 5 | 0 | 0 |\n",
       "| 9 | 0 | 0 |\n",
       "| 12 | 0 | 0 |\n",
       "| 18 | 1 | 0 |\n",
       "\n"
      ],
      "text/plain": [
       "   y_test y_pred\n",
       "2  0      0     \n",
       "4  0      0     \n",
       "5  0      0     \n",
       "9  0      0     \n",
       "12 0      0     \n",
       "18 1      0     "
      ]
     },
     "metadata": {},
     "output_type": "display_data"
    }
   ],
   "source": [
    "prob_pred = predict(classifier, type='response', newdata=test_set[-3])\n",
    "y_pred = ifelse(prob_pred > 0.5, 1, 0)\n",
    "head(data.frame(y_test=test_set$Purchased, y_pred=y_pred))"
   ]
  },
  {
   "cell_type": "markdown",
   "metadata": {},
   "source": [
    "## Making the Confusion Matrix"
   ]
  },
  {
   "cell_type": "code",
   "execution_count": 14,
   "metadata": {
    "vscode": {
     "languageId": "r"
    }
   },
   "outputs": [
    {
     "data": {
      "text/plain": [
       "   \n",
       "    FALSE TRUE\n",
       "  0    57    7\n",
       "  1    10   26"
      ]
     },
     "metadata": {},
     "output_type": "display_data"
    }
   ],
   "source": [
    "cm = table(test_set[, 3], y_pred > 0.5)\n",
    "cm"
   ]
  },
  {
   "cell_type": "markdown",
   "metadata": {},
   "source": [
    "## Visualising the Training set results"
   ]
  },
  {
   "cell_type": "code",
   "execution_count": 20,
   "metadata": {
    "vscode": {
     "languageId": "r"
    }
   },
   "outputs": [
    {
     "data": {
      "image/png": "[encoded data removed]",
      "text/plain": [
       "Plot with title \"Logistic Regression (Training set)\""
      ]
     },
     "metadata": {},
     "output_type": "display_data"
    }
   ],
   "source": [
    "set = training_set\n",
    "X1 = seq(min(set[, 1]) - 1, max(set[, 1]) + 1, by=0.01)\n",
    "X2 = seq(min(set[, 2]) - 1, max(set[, 2]) + 1, by=0.01)\n",
    "grid_set = expand.grid(X1, X2)\n",
    "colnames(grid_set) = c('Age', 'EstimatedSalary')\n",
    "prob_set = predict(classifier, type='response', newdata=grid_set)\n",
    "y_grid = ifelse(prob_set > 0.5, 1, 0)\n",
    "\n",
    "plot(set[, -3],\n",
    "     main='Logistic Regression (Training set)',\n",
    "     xlab='Age', ylab='Estimated Salary',\n",
    "     xlim=range(X1), ylim=range(X2))\n",
    "contour(X1, X2, matrix(as.numeric(y_grid), length(X1), length(X2)), add=TRUE)\n",
    "points(grid_set, pch='.', col=ifelse(y_grid == 1, 'dodgerblue', 'salmon'))\n",
    "points(set, pch=21, bg=ifelse(set[, 3] == 1, 'dodgerblue3', 'salmon3'))"
   ]
  },
  {
   "cell_type": "markdown",
   "metadata": {},
   "source": [
    "## Visualising the Test set results"
   ]
  },
  {
   "cell_type": "code",
   "execution_count": 21,
   "metadata": {
    "vscode": {
     "languageId": "r"
    }
   },
   "outputs": [
    {
     "data": {
      "image/png": "[encoded data removed]",
      "text/plain": [
       "Plot with title \"Logistic Regression (Test set)\""
      ]
     },
     "metadata": {},
     "output_type": "display_data"
    }
   ],
   "source": [
    "set = test_set\n",
    "X1 = seq(min(set[, 1]) - 1, max(set[, 1]) + 1, by=0.01)\n",
    "X2 = seq(min(set[, 2]) - 1, max(set[, 2]) + 1, by=0.01)\n",
    "grid_set = expand.grid(X1, X2)\n",
    "colnames(grid_set) = c('Age', 'EstimatedSalary')\n",
    "prob_set = predict(classifier, type='response', newdata=grid_set)\n",
    "y_grid = ifelse(prob_set > 0.5, 1, 0)\n",
    "\n",
    "plot(set[, -3],\n",
    "     main='Logistic Regression (Test set)',\n",
    "     xlab='Age', ylab='Estimated Salary',\n",
    "     xlim=range(X1), ylim=range(X2))\n",
    "contour(X1, X2, matrix(as.numeric(y_grid), length(X1), length(X2)), add=TRUE)\n",
    "points(grid_set, pch='.', col=ifelse(y_grid == 1, 'dodgerblue', 'salmon'))\n",
    "points(set, pch=21, bg=ifelse(set[, 3] == 1, 'dodgerblue3', 'salmon3'))"
   ]
  }
 ],
 "metadata": {
  "kernelspec": {
   "display_name": "R",
   "language": "R",
   "name": "ir"
  },
  "language_info": {
   "codemirror_mode": "r",
   "file_extension": ".r",
   "mimetype": "text/x-r-source",
   "name": "R",
   "pygments_lexer": "r",
   "version": "3.6.1"
  },
  "orig_nbformat": 4,
  "vscode": {
   "interpreter": {
    "hash": "3cfd106f785ae1e288da74ae733f9b47f8a2699db986927140be0bc196406f4c"
   }
  }
 },
 "nbformat": 4,
 "nbformat_minor": 2
}
