{
 "cells": [
  {
   "cell_type": "markdown",
   "metadata": {},
   "source": [
    "## Upper Confidence Bound"
   ]
  },
  {
   "cell_type": "markdown",
   "metadata": {},
   "source": [
    "## Importing the dataset"
   ]
  },
  {
   "cell_type": "code",
   "execution_count": 3,
   "metadata": {
    "vscode": {
     "languageId": "r"
    }
   },
   "outputs": [
    {
     "data": {
      "text/html": [
       "<table>\n",
       "<thead><tr><th scope=col>Ad.1</th><th scope=col>Ad.2</th><th scope=col>Ad.3</th><th scope=col>Ad.4</th><th scope=col>Ad.5</th><th scope=col>Ad.6</th><th scope=col>Ad.7</th><th scope=col>Ad.8</th><th scope=col>Ad.9</th><th scope=col>Ad.10</th></tr></thead>\n",
       "<tbody>\n",
       "\t<tr><td>1</td><td>0</td><td>0</td><td>0</td><td>1</td><td>0</td><td>0</td><td>0</td><td>1</td><td>0</td></tr>\n",
       "\t<tr><td>0</td><td>0</td><td>0</td><td>0</td><td>0</td><td>0</td><td>0</td><td>0</td><td>1</td><td>0</td></tr>\n",
       "\t<tr><td>0</td><td>0</td><td>0</td><td>0</td><td>0</td><td>0</td><td>0</td><td>0</td><td>0</td><td>0</td></tr>\n",
       "\t<tr><td>0</td><td>1</td><td>0</td><td>0</td><td>0</td><td>0</td><td>0</td><td>1</td><td>0</td><td>0</td></tr>\n",
       "\t<tr><td>0</td><td>0</td><td>0</td><td>0</td><td>0</td><td>0</td><td>0</td><td>0</td><td>0</td><td>0</td></tr>\n",
       "\t<tr><td>1</td><td>1</td><td>0</td><td>0</td><td>0</td><td>0</td><td>0</td><td>0</td><td>0</td><td>0</td></tr>\n",
       "</tbody>\n",
       "</table>\n"
      ],
      "text/latex": [
       "\\begin{tabular}{r|llllllllll}\n",
       " Ad.1 & Ad.2 & Ad.3 & Ad.4 & Ad.5 & Ad.6 & Ad.7 & Ad.8 & Ad.9 & Ad.10\\\\\n",
       "\\hline\n",
       "\t 1 & 0 & 0 & 0 & 1 & 0 & 0 & 0 & 1 & 0\\\\\n",
       "\t 0 & 0 & 0 & 0 & 0 & 0 & 0 & 0 & 1 & 0\\\\\n",
       "\t 0 & 0 & 0 & 0 & 0 & 0 & 0 & 0 & 0 & 0\\\\\n",
       "\t 0 & 1 & 0 & 0 & 0 & 0 & 0 & 1 & 0 & 0\\\\\n",
       "\t 0 & 0 & 0 & 0 & 0 & 0 & 0 & 0 & 0 & 0\\\\\n",
       "\t 1 & 1 & 0 & 0 & 0 & 0 & 0 & 0 & 0 & 0\\\\\n",
       "\\end{tabular}\n"
      ],
      "text/markdown": [
       "\n",
       "| Ad.1 | Ad.2 | Ad.3 | Ad.4 | Ad.5 | Ad.6 | Ad.7 | Ad.8 | Ad.9 | Ad.10 |\n",
       "|---|---|---|---|---|---|---|---|---|---|\n",
       "| 1 | 0 | 0 | 0 | 1 | 0 | 0 | 0 | 1 | 0 |\n",
       "| 0 | 0 | 0 | 0 | 0 | 0 | 0 | 0 | 1 | 0 |\n",
       "| 0 | 0 | 0 | 0 | 0 | 0 | 0 | 0 | 0 | 0 |\n",
       "| 0 | 1 | 0 | 0 | 0 | 0 | 0 | 1 | 0 | 0 |\n",
       "| 0 | 0 | 0 | 0 | 0 | 0 | 0 | 0 | 0 | 0 |\n",
       "| 1 | 1 | 0 | 0 | 0 | 0 | 0 | 0 | 0 | 0 |\n",
       "\n"
      ],
      "text/plain": [
       "  Ad.1 Ad.2 Ad.3 Ad.4 Ad.5 Ad.6 Ad.7 Ad.8 Ad.9 Ad.10\n",
       "1 1    0    0    0    1    0    0    0    1    0    \n",
       "2 0    0    0    0    0    0    0    0    1    0    \n",
       "3 0    0    0    0    0    0    0    0    0    0    \n",
       "4 0    1    0    0    0    0    0    1    0    0    \n",
       "5 0    0    0    0    0    0    0    0    0    0    \n",
       "6 1    1    0    0    0    0    0    0    0    0    "
      ]
     },
     "metadata": {},
     "output_type": "display_data"
    }
   ],
   "source": [
    "dataset = read.csv('Ads_CTR_Optimisation.csv')\n",
    "head(dataset)"
   ]
  },
  {
   "cell_type": "markdown",
   "metadata": {},
   "source": [
    "## Implementing UCB"
   ]
  },
  {
   "cell_type": "code",
   "execution_count": 4,
   "metadata": {
    "vscode": {
     "languageId": "r"
    }
   },
   "outputs": [],
   "source": [
    "N = 10000\n",
    "d = 10\n",
    "ads_selected = integer(0)\n",
    "numbers_of_selections = integer(d)\n",
    "sums_of_rewards = integer(d)\n",
    "total_reward = 0\n",
    "\n",
    "for (n in 1:N) {\n",
    "    ad = 0\n",
    "    max_upper_bound = 0\n",
    "    for (i in 1:d) {\n",
    "    if (numbers_of_selections[i] > 0) {\n",
    "        average_reward = sums_of_rewards[i] / numbers_of_selections[i]\n",
    "        delta_i = sqrt(3/2 * log(n) / numbers_of_selections[i])\n",
    "        upper_bound = average_reward + delta_i\n",
    "    } else {\n",
    "        upper_bound = 1e400\n",
    "    }\n",
    "    if (upper_bound > max_upper_bound) {\n",
    "        max_upper_bound = upper_bound\n",
    "        ad = i\n",
    "    }\n",
    "    }\n",
    "    ads_selected = append(ads_selected, ad)\n",
    "    numbers_of_selections[ad] = numbers_of_selections[ad] + 1\n",
    "    reward = dataset[n, ad]\n",
    "    sums_of_rewards[ad] = sums_of_rewards[ad] + reward\n",
    "    total_reward = total_reward + reward\n",
    "}"
   ]
  },
  {
   "cell_type": "markdown",
   "metadata": {},
   "source": [
    "## Visualising the results"
   ]
  },
  {
   "cell_type": "code",
   "execution_count": 5,
   "metadata": {
    "vscode": {
     "languageId": "r"
    }
   },
   "outputs": [
    {
     "data": {
      "image/png": "[encoded data removed]",
      "text/plain": [
       "Plot with title \"Histogram of ads selections\""
      ]
     },
     "metadata": {},
     "output_type": "display_data"
    }
   ],
   "source": [
    "hist(ads_selected,\n",
    "     col='blue',\n",
    "     main='Histogram of ads selections',\n",
    "     xlab='Ads',\n",
    "     ylab='Number of times each ad was selected')"
   ]
  }
 ],
 "metadata": {
  "kernelspec": {
   "display_name": "R",
   "language": "R",
   "name": "ir"
  },
  "language_info": {
   "codemirror_mode": "r",
   "file_extension": ".r",
   "mimetype": "text/x-r-source",
   "name": "R",
   "pygments_lexer": "r",
   "version": "3.6.1"
  },
  "orig_nbformat": 4,
  "vscode": {
   "interpreter": {
    "hash": "3cfd106f785ae1e288da74ae733f9b47f8a2699db986927140be0bc196406f4c"
   }
  }
 },
 "nbformat": 4,
 "nbformat_minor": 2
}
