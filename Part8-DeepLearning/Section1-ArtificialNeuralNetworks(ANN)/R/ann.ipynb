{
 "cells": [
  {
   "cell_type": "markdown",
   "metadata": {},
   "source": [
    "# Artificial Neural Network"
   ]
  },
  {
   "cell_type": "markdown",
   "metadata": {},
   "source": [
    "## Importing the dataset"
   ]
  },
  {
   "cell_type": "code",
   "execution_count": 1,
   "metadata": {
    "vscode": {
     "languageId": "r"
    }
   },
   "outputs": [
    {
     "data": {
      "text/html": [
       "<table>\n",
       "<thead><tr><th scope=col>CreditScore</th><th scope=col>Geography</th><th scope=col>Gender</th><th scope=col>Age</th><th scope=col>Tenure</th><th scope=col>Balance</th><th scope=col>NumOfProducts</th><th scope=col>HasCrCard</th><th scope=col>IsActiveMember</th><th scope=col>EstimatedSalary</th><th scope=col>Exited</th></tr></thead>\n",
       "<tbody>\n",
       "\t<tr><td>619      </td><td>France   </td><td>Female   </td><td>42       </td><td>2        </td><td>     0.00</td><td>1        </td><td>1        </td><td>1        </td><td>101348.88</td><td>1        </td></tr>\n",
       "\t<tr><td>608      </td><td>Spain    </td><td>Female   </td><td>41       </td><td>1        </td><td> 83807.86</td><td>1        </td><td>0        </td><td>1        </td><td>112542.58</td><td>0        </td></tr>\n",
       "\t<tr><td>502      </td><td>France   </td><td>Female   </td><td>42       </td><td>8        </td><td>159660.80</td><td>3        </td><td>1        </td><td>0        </td><td>113931.57</td><td>1        </td></tr>\n",
       "\t<tr><td>699      </td><td>France   </td><td>Female   </td><td>39       </td><td>1        </td><td>     0.00</td><td>2        </td><td>0        </td><td>0        </td><td> 93826.63</td><td>0        </td></tr>\n",
       "\t<tr><td>850      </td><td>Spain    </td><td>Female   </td><td>43       </td><td>2        </td><td>125510.82</td><td>1        </td><td>1        </td><td>1        </td><td> 79084.10</td><td>0        </td></tr>\n",
       "\t<tr><td>645      </td><td>Spain    </td><td>Male     </td><td>44       </td><td>8        </td><td>113755.78</td><td>2        </td><td>1        </td><td>0        </td><td>149756.71</td><td>1        </td></tr>\n",
       "</tbody>\n",
       "</table>\n"
      ],
      "text/latex": [
       "\\begin{tabular}{r|lllllllllll}\n",
       " CreditScore & Geography & Gender & Age & Tenure & Balance & NumOfProducts & HasCrCard & IsActiveMember & EstimatedSalary & Exited\\\\\n",
       "\\hline\n",
       "\t 619       & France    & Female    & 42        & 2         &      0.00 & 1         & 1         & 1         & 101348.88 & 1        \\\\\n",
       "\t 608       & Spain     & Female    & 41        & 1         &  83807.86 & 1         & 0         & 1         & 112542.58 & 0        \\\\\n",
       "\t 502       & France    & Female    & 42        & 8         & 159660.80 & 3         & 1         & 0         & 113931.57 & 1        \\\\\n",
       "\t 699       & France    & Female    & 39        & 1         &      0.00 & 2         & 0         & 0         &  93826.63 & 0        \\\\\n",
       "\t 850       & Spain     & Female    & 43        & 2         & 125510.82 & 1         & 1         & 1         &  79084.10 & 0        \\\\\n",
       "\t 645       & Spain     & Male      & 44        & 8         & 113755.78 & 2         & 1         & 0         & 149756.71 & 1        \\\\\n",
       "\\end{tabular}\n"
      ],
      "text/markdown": [
       "\n",
       "| CreditScore | Geography | Gender | Age | Tenure | Balance | NumOfProducts | HasCrCard | IsActiveMember | EstimatedSalary | Exited |\n",
       "|---|---|---|---|---|---|---|---|---|---|---|\n",
       "| 619       | France    | Female    | 42        | 2         |      0.00 | 1         | 1         | 1         | 101348.88 | 1         |\n",
       "| 608       | Spain     | Female    | 41        | 1         |  83807.86 | 1         | 0         | 1         | 112542.58 | 0         |\n",
       "| 502       | France    | Female    | 42        | 8         | 159660.80 | 3         | 1         | 0         | 113931.57 | 1         |\n",
       "| 699       | France    | Female    | 39        | 1         |      0.00 | 2         | 0         | 0         |  93826.63 | 0         |\n",
       "| 850       | Spain     | Female    | 43        | 2         | 125510.82 | 1         | 1         | 1         |  79084.10 | 0         |\n",
       "| 645       | Spain     | Male      | 44        | 8         | 113755.78 | 2         | 1         | 0         | 149756.71 | 1         |\n",
       "\n"
      ],
      "text/plain": [
       "  CreditScore Geography Gender Age Tenure Balance   NumOfProducts HasCrCard\n",
       "1 619         France    Female 42  2           0.00 1             1        \n",
       "2 608         Spain     Female 41  1       83807.86 1             0        \n",
       "3 502         France    Female 42  8      159660.80 3             1        \n",
       "4 699         France    Female 39  1           0.00 2             0        \n",
       "5 850         Spain     Female 43  2      125510.82 1             1        \n",
       "6 645         Spain     Male   44  8      113755.78 2             1        \n",
       "  IsActiveMember EstimatedSalary Exited\n",
       "1 1              101348.88       1     \n",
       "2 1              112542.58       0     \n",
       "3 0              113931.57       1     \n",
       "4 0               93826.63       0     \n",
       "5 1               79084.10       0     \n",
       "6 0              149756.71       1     "
      ]
     },
     "metadata": {},
     "output_type": "display_data"
    }
   ],
   "source": [
    "dataset = read.csv('Churn_Modelling.csv')\n",
    "dataset = dataset[4:14]\n",
    "head(dataset)"
   ]
  },
  {
   "cell_type": "markdown",
   "metadata": {},
   "source": [
    "## Encoding the categorical variables as factors"
   ]
  },
  {
   "cell_type": "code",
   "execution_count": 2,
   "metadata": {
    "vscode": {
     "languageId": "r"
    }
   },
   "outputs": [],
   "source": [
    "dataset$Geography = as.numeric(factor(dataset$Geography,\n",
    "                                      levels=c('France', 'Spain', 'Germany'),\n",
    "                                      labels=c(1, 2, 3)))\n",
    "\n",
    "dataset$Gender = as.numeric(factor(dataset$Gender,\n",
    "                                   levels=c('Female', 'Male'),\n",
    "                                   labels=c(1, 2)))"
   ]
  },
  {
   "cell_type": "code",
   "execution_count": 3,
   "metadata": {
    "vscode": {
     "languageId": "r"
    }
   },
   "outputs": [
    {
     "data": {
      "text/html": [
       "<table>\n",
       "<thead><tr><th scope=col>CreditScore</th><th scope=col>Geography</th><th scope=col>Gender</th><th scope=col>Age</th><th scope=col>Tenure</th><th scope=col>Balance</th><th scope=col>NumOfProducts</th><th scope=col>HasCrCard</th><th scope=col>IsActiveMember</th><th scope=col>EstimatedSalary</th><th scope=col>Exited</th></tr></thead>\n",
       "<tbody>\n",
       "\t<tr><td>619      </td><td>1        </td><td>1        </td><td>42       </td><td>2        </td><td>     0.00</td><td>1        </td><td>1        </td><td>1        </td><td>101348.88</td><td>1        </td></tr>\n",
       "\t<tr><td>608      </td><td>2        </td><td>1        </td><td>41       </td><td>1        </td><td> 83807.86</td><td>1        </td><td>0        </td><td>1        </td><td>112542.58</td><td>0        </td></tr>\n",
       "\t<tr><td>502      </td><td>1        </td><td>1        </td><td>42       </td><td>8        </td><td>159660.80</td><td>3        </td><td>1        </td><td>0        </td><td>113931.57</td><td>1        </td></tr>\n",
       "\t<tr><td>699      </td><td>1        </td><td>1        </td><td>39       </td><td>1        </td><td>     0.00</td><td>2        </td><td>0        </td><td>0        </td><td> 93826.63</td><td>0        </td></tr>\n",
       "\t<tr><td>850      </td><td>2        </td><td>1        </td><td>43       </td><td>2        </td><td>125510.82</td><td>1        </td><td>1        </td><td>1        </td><td> 79084.10</td><td>0        </td></tr>\n",
       "\t<tr><td>645      </td><td>2        </td><td>2        </td><td>44       </td><td>8        </td><td>113755.78</td><td>2        </td><td>1        </td><td>0        </td><td>149756.71</td><td>1        </td></tr>\n",
       "</tbody>\n",
       "</table>\n"
      ],
      "text/latex": [
       "\\begin{tabular}{r|lllllllllll}\n",
       " CreditScore & Geography & Gender & Age & Tenure & Balance & NumOfProducts & HasCrCard & IsActiveMember & EstimatedSalary & Exited\\\\\n",
       "\\hline\n",
       "\t 619       & 1         & 1         & 42        & 2         &      0.00 & 1         & 1         & 1         & 101348.88 & 1        \\\\\n",
       "\t 608       & 2         & 1         & 41        & 1         &  83807.86 & 1         & 0         & 1         & 112542.58 & 0        \\\\\n",
       "\t 502       & 1         & 1         & 42        & 8         & 159660.80 & 3         & 1         & 0         & 113931.57 & 1        \\\\\n",
       "\t 699       & 1         & 1         & 39        & 1         &      0.00 & 2         & 0         & 0         &  93826.63 & 0        \\\\\n",
       "\t 850       & 2         & 1         & 43        & 2         & 125510.82 & 1         & 1         & 1         &  79084.10 & 0        \\\\\n",
       "\t 645       & 2         & 2         & 44        & 8         & 113755.78 & 2         & 1         & 0         & 149756.71 & 1        \\\\\n",
       "\\end{tabular}\n"
      ],
      "text/markdown": [
       "\n",
       "| CreditScore | Geography | Gender | Age | Tenure | Balance | NumOfProducts | HasCrCard | IsActiveMember | EstimatedSalary | Exited |\n",
       "|---|---|---|---|---|---|---|---|---|---|---|\n",
       "| 619       | 1         | 1         | 42        | 2         |      0.00 | 1         | 1         | 1         | 101348.88 | 1         |\n",
       "| 608       | 2         | 1         | 41        | 1         |  83807.86 | 1         | 0         | 1         | 112542.58 | 0         |\n",
       "| 502       | 1         | 1         | 42        | 8         | 159660.80 | 3         | 1         | 0         | 113931.57 | 1         |\n",
       "| 699       | 1         | 1         | 39        | 1         |      0.00 | 2         | 0         | 0         |  93826.63 | 0         |\n",
       "| 850       | 2         | 1         | 43        | 2         | 125510.82 | 1         | 1         | 1         |  79084.10 | 0         |\n",
       "| 645       | 2         | 2         | 44        | 8         | 113755.78 | 2         | 1         | 0         | 149756.71 | 1         |\n",
       "\n"
      ],
      "text/plain": [
       "  CreditScore Geography Gender Age Tenure Balance   NumOfProducts HasCrCard\n",
       "1 619         1         1      42  2           0.00 1             1        \n",
       "2 608         2         1      41  1       83807.86 1             0        \n",
       "3 502         1         1      42  8      159660.80 3             1        \n",
       "4 699         1         1      39  1           0.00 2             0        \n",
       "5 850         2         1      43  2      125510.82 1             1        \n",
       "6 645         2         2      44  8      113755.78 2             1        \n",
       "  IsActiveMember EstimatedSalary Exited\n",
       "1 1              101348.88       1     \n",
       "2 1              112542.58       0     \n",
       "3 0              113931.57       1     \n",
       "4 0               93826.63       0     \n",
       "5 1               79084.10       0     \n",
       "6 0              149756.71       1     "
      ]
     },
     "metadata": {},
     "output_type": "display_data"
    }
   ],
   "source": [
    "head(dataset)"
   ]
  },
  {
   "cell_type": "markdown",
   "metadata": {},
   "source": [
    "## Splitting the dataset into the Training set and Test set"
   ]
  },
  {
   "cell_type": "code",
   "execution_count": 4,
   "metadata": {
    "vscode": {
     "languageId": "r"
    }
   },
   "outputs": [
    {
     "name": "stderr",
     "output_type": "stream",
     "text": [
      "Warning message:\n",
      "\"package 'caTools' was built under R version 3.6.3\""
     ]
    }
   ],
   "source": [
    "library(caTools)\n",
    "\n",
    "set.seed(123)\n",
    "split = sample.split(dataset$Exited, SplitRatio=0.8)\n",
    "training_set = subset(dataset, split == TRUE)\n",
    "test_set = subset(dataset, split == FALSE)"
   ]
  },
  {
   "cell_type": "markdown",
   "metadata": {},
   "source": [
    "## Feature Scaling"
   ]
  },
  {
   "cell_type": "code",
   "execution_count": 5,
   "metadata": {
    "vscode": {
     "languageId": "r"
    }
   },
   "outputs": [],
   "source": [
    "training_set[-11] = scale(training_set[-11])\n",
    "test_set[-11] = scale(test_set[-11])"
   ]
  },
  {
   "cell_type": "code",
   "execution_count": 6,
   "metadata": {
    "vscode": {
     "languageId": "r"
    }
   },
   "outputs": [
    {
     "data": {
      "text/html": [
       "<table>\n",
       "<thead><tr><th></th><th scope=col>CreditScore</th><th scope=col>Geography</th><th scope=col>Gender</th><th scope=col>Age</th><th scope=col>Tenure</th><th scope=col>Balance</th><th scope=col>NumOfProducts</th><th scope=col>HasCrCard</th><th scope=col>IsActiveMember</th><th scope=col>EstimatedSalary</th><th scope=col>Exited</th></tr></thead>\n",
       "<tbody>\n",
       "\t<tr><th scope=row>1</th><td>-0.32756459</td><td>-0.8895031 </td><td>-1.0929950 </td><td>0.2962052  </td><td>-1.0313943 </td><td>-1.2190517 </td><td>-0.9111120 </td><td> 0.6518863 </td><td> 0.970619  </td><td> 0.0216855 </td><td>1          </td></tr>\n",
       "\t<tr><th scope=row>3</th><td>-1.53810353</td><td>-0.8895031 </td><td>-1.0929950 </td><td>0.2962052  </td><td> 1.0432370 </td><td> 1.3330389 </td><td> 2.5466186 </td><td> 0.6518863 </td><td>-1.030142  </td><td> 0.2400424 </td><td>1          </td></tr>\n",
       "\t<tr><th scope=row>5</th><td> 2.06247381</td><td> 0.3202937 </td><td>-1.0929950 </td><td>0.3914787  </td><td>-1.0313943 </td><td> 0.7871702 </td><td>-0.9111120 </td><td> 0.6518863 </td><td> 0.970619  </td><td>-0.3646920 </td><td>0          </td></tr>\n",
       "\t<tr><th scope=row>6</th><td>-0.05855594</td><td> 0.3202937 </td><td> 0.9148029 </td><td>0.4867522  </td><td> 1.0432370 </td><td> 0.5992723 </td><td> 0.8177533 </td><td> 0.6518863 </td><td>-1.030142  </td><td> 0.8617430 </td><td>1          </td></tr>\n",
       "\t<tr><th scope=row>7</th><td> 1.77277219</td><td>-0.8895031 </td><td> 0.9148029 </td><td>1.0583930  </td><td> 0.6974651 </td><td>-1.2190517 </td><td> 0.8177533 </td><td> 0.6518863 </td><td> 0.970619  </td><td>-1.5624706 </td><td>0          </td></tr>\n",
       "\t<tr><th scope=row>9</th><td>-1.54845001</td><td>-0.8895031 </td><td> 0.9148029 </td><td>0.4867522  </td><td>-0.3398505 </td><td> 1.0515570 </td><td> 0.8177533 </td><td>-1.5338180 </td><td> 0.970619  </td><td>-0.4365990 </td><td>0          </td></tr>\n",
       "</tbody>\n",
       "</table>\n"
      ],
      "text/latex": [
       "\\begin{tabular}{r|lllllllllll}\n",
       "  & CreditScore & Geography & Gender & Age & Tenure & Balance & NumOfProducts & HasCrCard & IsActiveMember & EstimatedSalary & Exited\\\\\n",
       "\\hline\n",
       "\t1 & -0.32756459 & -0.8895031  & -1.0929950  & 0.2962052   & -1.0313943  & -1.2190517  & -0.9111120  &  0.6518863  &  0.970619   &  0.0216855  & 1          \\\\\n",
       "\t3 & -1.53810353 & -0.8895031  & -1.0929950  & 0.2962052   &  1.0432370  &  1.3330389  &  2.5466186  &  0.6518863  & -1.030142   &  0.2400424  & 1          \\\\\n",
       "\t5 &  2.06247381 &  0.3202937  & -1.0929950  & 0.3914787   & -1.0313943  &  0.7871702  & -0.9111120  &  0.6518863  &  0.970619   & -0.3646920  & 0          \\\\\n",
       "\t6 & -0.05855594 &  0.3202937  &  0.9148029  & 0.4867522   &  1.0432370  &  0.5992723  &  0.8177533  &  0.6518863  & -1.030142   &  0.8617430  & 1          \\\\\n",
       "\t7 &  1.77277219 & -0.8895031  &  0.9148029  & 1.0583930   &  0.6974651  & -1.2190517  &  0.8177533  &  0.6518863  &  0.970619   & -1.5624706  & 0          \\\\\n",
       "\t9 & -1.54845001 & -0.8895031  &  0.9148029  & 0.4867522   & -0.3398505  &  1.0515570  &  0.8177533  & -1.5338180  &  0.970619   & -0.4365990  & 0          \\\\\n",
       "\\end{tabular}\n"
      ],
      "text/markdown": [
       "\n",
       "| <!--/--> | CreditScore | Geography | Gender | Age | Tenure | Balance | NumOfProducts | HasCrCard | IsActiveMember | EstimatedSalary | Exited |\n",
       "|---|---|---|---|---|---|---|---|---|---|---|---|\n",
       "| 1 | -0.32756459 | -0.8895031  | -1.0929950  | 0.2962052   | -1.0313943  | -1.2190517  | -0.9111120  |  0.6518863  |  0.970619   |  0.0216855  | 1           |\n",
       "| 3 | -1.53810353 | -0.8895031  | -1.0929950  | 0.2962052   |  1.0432370  |  1.3330389  |  2.5466186  |  0.6518863  | -1.030142   |  0.2400424  | 1           |\n",
       "| 5 |  2.06247381 |  0.3202937  | -1.0929950  | 0.3914787   | -1.0313943  |  0.7871702  | -0.9111120  |  0.6518863  |  0.970619   | -0.3646920  | 0           |\n",
       "| 6 | -0.05855594 |  0.3202937  |  0.9148029  | 0.4867522   |  1.0432370  |  0.5992723  |  0.8177533  |  0.6518863  | -1.030142   |  0.8617430  | 1           |\n",
       "| 7 |  1.77277219 | -0.8895031  |  0.9148029  | 1.0583930   |  0.6974651  | -1.2190517  |  0.8177533  |  0.6518863  |  0.970619   | -1.5624706  | 0           |\n",
       "| 9 | -1.54845001 | -0.8895031  |  0.9148029  | 0.4867522   | -0.3398505  |  1.0515570  |  0.8177533  | -1.5338180  |  0.970619   | -0.4365990  | 0           |\n",
       "\n"
      ],
      "text/plain": [
       "  CreditScore Geography  Gender     Age       Tenure     Balance   \n",
       "1 -0.32756459 -0.8895031 -1.0929950 0.2962052 -1.0313943 -1.2190517\n",
       "3 -1.53810353 -0.8895031 -1.0929950 0.2962052  1.0432370  1.3330389\n",
       "5  2.06247381  0.3202937 -1.0929950 0.3914787 -1.0313943  0.7871702\n",
       "6 -0.05855594  0.3202937  0.9148029 0.4867522  1.0432370  0.5992723\n",
       "7  1.77277219 -0.8895031  0.9148029 1.0583930  0.6974651 -1.2190517\n",
       "9 -1.54845001 -0.8895031  0.9148029 0.4867522 -0.3398505  1.0515570\n",
       "  NumOfProducts HasCrCard  IsActiveMember EstimatedSalary Exited\n",
       "1 -0.9111120     0.6518863  0.970619       0.0216855      1     \n",
       "3  2.5466186     0.6518863 -1.030142       0.2400424      1     \n",
       "5 -0.9111120     0.6518863  0.970619      -0.3646920      0     \n",
       "6  0.8177533     0.6518863 -1.030142       0.8617430      1     \n",
       "7  0.8177533     0.6518863  0.970619      -1.5624706      0     \n",
       "9  0.8177533    -1.5338180  0.970619      -0.4365990      0     "
      ]
     },
     "metadata": {},
     "output_type": "display_data"
    }
   ],
   "source": [
    "head(training_set)"
   ]
  },
  {
   "cell_type": "markdown",
   "metadata": {},
   "source": [
    "## Fitting ANN to the Training set"
   ]
  },
  {
   "cell_type": "code",
   "execution_count": 9,
   "metadata": {
    "vscode": {
     "languageId": "r"
    }
   },
   "outputs": [],
   "source": [
    "# install.packages('h2o')"
   ]
  },
  {
   "cell_type": "code",
   "execution_count": 10,
   "metadata": {
    "vscode": {
     "languageId": "r"
    }
   },
   "outputs": [
    {
     "name": "stderr",
     "output_type": "stream",
     "text": [
      "\n",
      "----------------------------------------------------------------------\n",
      "\n",
      "Your next step is to start H2O:\n",
      "    > h2o.init()\n",
      "\n",
      "For H2O package documentation, ask for help:\n",
      "    > ??h2o\n",
      "\n",
      "After starting H2O, you can use the Web UI at http://localhost:54321\n",
      "For more information visit https://docs.h2o.ai\n",
      "\n",
      "----------------------------------------------------------------------\n",
      "\n",
      "\n",
      "Attaching package: 'h2o'\n",
      "\n",
      "The following objects are masked from 'package:stats':\n",
      "\n",
      "    cor, sd, var\n",
      "\n",
      "The following objects are masked from 'package:base':\n",
      "\n",
      "    %*%, %in%, &&, ||, apply, as.factor, as.numeric, colnames,\n",
      "    colnames<-, ifelse, is.character, is.factor, is.numeric, log,\n",
      "    log10, log1p, log2, round, signif, trunc\n",
      "\n"
     ]
    },
    {
     "name": "stdout",
     "output_type": "stream",
     "text": [
      "\n",
      "H2O is not running yet, starting it now...\n",
      "\n",
      "Note:  In case of errors look at the following log files:\n",
      "    C:\\Users\\luisa\\AppData\\Local\\Temp\\Rtmpm48E7K\\file204c6df746d9/h2o_luisa_started_from_r.out\n",
      "    C:\\Users\\luisa\\AppData\\Local\\Temp\\Rtmpm48E7K\\file204c670b1a5f/h2o_luisa_started_from_r.err\n",
      "\n",
      "\n",
      "Starting H2O JVM and connecting:  Connection successful!\n",
      "\n",
      "R is connected to the H2O cluster: \n",
      "    H2O cluster uptime:         5 seconds 286 milliseconds \n",
      "    H2O cluster timezone:       America/Mexico_City \n",
      "    H2O data parsing timezone:  UTC \n",
      "    H2O cluster version:        3.38.0.1 \n",
      "    H2O cluster version age:    2 months and 4 days  \n",
      "    H2O cluster name:           H2O_started_from_R_luisa_cti312 \n",
      "    H2O cluster total nodes:    1 \n",
      "    H2O cluster total memory:   3.98 GB \n",
      "    H2O cluster total cores:    8 \n",
      "    H2O cluster allowed cores:  8 \n",
      "    H2O cluster healthy:        TRUE \n",
      "    H2O Connection ip:          localhost \n",
      "    H2O Connection port:        54321 \n",
      "    H2O Connection proxy:       NA \n",
      "    H2O Internal Security:      FALSE \n",
      "    R Version:                  R version 3.6.1 (2019-07-05) \n",
      "\n"
     ]
    },
    {
     "name": "stderr",
     "output_type": "stream",
     "text": [
      "Warning message in use.package(\"data.table\"):\n",
      "\"data.table cannot be used without R package bit64 version 0.9.7 or higher.  Please upgrade to take advangage of data.table speedups.\""
     ]
    },
    {
     "name": "stdout",
     "output_type": "stream",
     "text": [
      "  |======================================================================| 100%\n"
     ]
    },
    {
     "name": "stderr",
     "output_type": "stream",
     "text": [
      "Warning message in .h2o.processResponseWarnings(res):\n",
      "\"We have detected that your response column has only 2 unique values (0/1). If you wish to train a binary model instead of a regression model, convert your target column to categorical before training..\n",
      "\""
     ]
    },
    {
     "name": "stdout",
     "output_type": "stream",
     "text": [
      "  |======================================================================| 100%\n"
     ]
    }
   ],
   "source": [
    "library(h2o)\n",
    "\n",
    "h2o.init(nthreads=-1)\n",
    "model = h2o.deeplearning(y='Exited',\n",
    "                         training_frame=as.h2o(training_set),\n",
    "                         activation='Rectifier',\n",
    "                         hidden=c(5,5),\n",
    "                         epochs=100,\n",
    "                         train_samples_per_iteration=-2)"
   ]
  },
  {
   "cell_type": "markdown",
   "metadata": {},
   "source": [
    "## Predicting the Test set results"
   ]
  },
  {
   "cell_type": "code",
   "execution_count": 13,
   "metadata": {
    "vscode": {
     "languageId": "r"
    }
   },
   "outputs": [
    {
     "name": "stderr",
     "output_type": "stream",
     "text": [
      "Warning message in use.package(\"data.table\"):\n",
      "\"data.table cannot be used without R package bit64 version 0.9.7 or higher.  Please upgrade to take advangage of data.table speedups.\""
     ]
    },
    {
     "name": "stdout",
     "output_type": "stream",
     "text": [
      "  |======================================================================| 100%\n",
      "  |======================================================================| 100%\n"
     ]
    },
    {
     "data": {
      "text/html": [
       "<table>\n",
       "<thead><tr><th></th><th scope=col>Exited</th><th scope=col>y_pred</th></tr></thead>\n",
       "<tbody>\n",
       "\t<tr><th scope=row>2</th><td>0</td><td>0</td></tr>\n",
       "\t<tr><th scope=row>4</th><td>0</td><td>0</td></tr>\n",
       "\t<tr><th scope=row>8</th><td>1</td><td>1</td></tr>\n",
       "\t<tr><th scope=row>12</th><td>0</td><td>0</td></tr>\n",
       "\t<tr><th scope=row>13</th><td>0</td><td>0</td></tr>\n",
       "\t<tr><th scope=row>14</th><td>0</td><td>0</td></tr>\n",
       "</tbody>\n",
       "</table>\n"
      ],
      "text/latex": [
       "\\begin{tabular}{r|ll}\n",
       "  & Exited & y\\_pred\\\\\n",
       "\\hline\n",
       "\t2 & 0 & 0\\\\\n",
       "\t4 & 0 & 0\\\\\n",
       "\t8 & 1 & 1\\\\\n",
       "\t12 & 0 & 0\\\\\n",
       "\t13 & 0 & 0\\\\\n",
       "\t14 & 0 & 0\\\\\n",
       "\\end{tabular}\n"
      ],
      "text/markdown": [
       "\n",
       "| <!--/--> | Exited | y_pred |\n",
       "|---|---|---|\n",
       "| 2 | 0 | 0 |\n",
       "| 4 | 0 | 0 |\n",
       "| 8 | 1 | 1 |\n",
       "| 12 | 0 | 0 |\n",
       "| 13 | 0 | 0 |\n",
       "| 14 | 0 | 0 |\n",
       "\n"
      ],
      "text/plain": [
       "   Exited y_pred\n",
       "2  0      0     \n",
       "4  0      0     \n",
       "8  1      1     \n",
       "12 0      0     \n",
       "13 0      0     \n",
       "14 0      0     "
      ]
     },
     "metadata": {},
     "output_type": "display_data"
    }
   ],
   "source": [
    "y_pred = h2o.predict(model, newdata=as.h2o(test_set[-11]))\n",
    "y_pred = (y_pred > 0.5)\n",
    "y_pred = as.vector(y_pred)\n",
    "head(data.frame(y_test=test_set[11], y_pred=y_pred))"
   ]
  },
  {
   "cell_type": "markdown",
   "metadata": {},
   "source": [
    "## Making the Confusion Matrix"
   ]
  },
  {
   "cell_type": "code",
   "execution_count": 14,
   "metadata": {
    "vscode": {
     "languageId": "r"
    }
   },
   "outputs": [
    {
     "data": {
      "text/plain": [
       "   y_pred\n",
       "       0    1\n",
       "  0 1546   47\n",
       "  1  225  182"
      ]
     },
     "metadata": {},
     "output_type": "display_data"
    }
   ],
   "source": [
    "cm = table(test_set[, 11], y_pred)\n",
    "cm"
   ]
  },
  {
   "cell_type": "code",
   "execution_count": null,
   "metadata": {
    "vscode": {
     "languageId": "r"
    }
   },
   "outputs": [],
   "source": [
    "h2o.shutdown()"
   ]
  }
 ],
 "metadata": {
  "kernelspec": {
   "display_name": "R",
   "language": "R",
   "name": "ir"
  },
  "language_info": {
   "codemirror_mode": "r",
   "file_extension": ".r",
   "mimetype": "text/x-r-source",
   "name": "R",
   "pygments_lexer": "r",
   "version": "3.6.1"
  },
  "orig_nbformat": 4,
  "vscode": {
   "interpreter": {
    "hash": "3cfd106f785ae1e288da74ae733f9b47f8a2699db986927140be0bc196406f4c"
   }
  }
 },
 "nbformat": 4,
 "nbformat_minor": 2
}
