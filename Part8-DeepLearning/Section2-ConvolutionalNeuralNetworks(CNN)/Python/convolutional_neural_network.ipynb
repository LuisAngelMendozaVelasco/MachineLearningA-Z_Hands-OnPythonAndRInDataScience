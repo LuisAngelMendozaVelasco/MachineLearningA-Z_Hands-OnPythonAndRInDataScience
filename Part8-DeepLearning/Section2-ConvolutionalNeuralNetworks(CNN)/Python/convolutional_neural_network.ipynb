{
  "cells": [
    {
      "cell_type": "markdown",
      "metadata": {
        "colab_type": "text",
        "id": "3DR-eO17geWu"
      },
      "source": [
        "# Convolutional Neural Network"
      ]
    },
    {
      "cell_type": "markdown",
      "metadata": {
        "colab_type": "text",
        "id": "EMefrVPCg-60"
      },
      "source": [
        "### Importing the libraries"
      ]
    },
    {
      "cell_type": "code",
      "execution_count": 2,
      "metadata": {
        "colab": {},
        "colab_type": "code",
        "id": "sCV30xyVhFbE"
      },
      "outputs": [],
      "source": [
        "import tensorflow as tf\n",
        "from keras.preprocessing.image import ImageDataGenerator"
      ]
    },
    {
      "cell_type": "code",
      "execution_count": 3,
      "metadata": {},
      "outputs": [],
      "source": [
        "# To avoid: \n",
        "# StdErr from Kernel Process OMP: Error #15: Initializing libiomp5md.dll, but found libiomp5 already initialized. \n",
        "# OMP: Hint This means that multiple copies of the OpenMP runtime have been linked into the program.\n",
        "\n",
        "import os\n",
        "\n",
        "os.environ['KMP_DUPLICATE_LIB_OK'] = 'True'"
      ]
    },
    {
      "cell_type": "code",
      "execution_count": 4,
      "metadata": {
        "colab": {},
        "colab_type": "code",
        "id": "FIleuCAjoFD8"
      },
      "outputs": [
        {
          "data": {
            "text/plain": [
              "'2.9.1'"
            ]
          },
          "execution_count": 4,
          "metadata": {},
          "output_type": "execute_result"
        }
      ],
      "source": [
        "tf.__version__"
      ]
    },
    {
      "cell_type": "markdown",
      "metadata": {
        "colab_type": "text",
        "id": "oxQxCBWyoGPE"
      },
      "source": [
        "## Part 1 - Data Preprocessing"
      ]
    },
    {
      "cell_type": "markdown",
      "metadata": {
        "colab_type": "text",
        "id": "MvE-heJNo3GG"
      },
      "source": [
        "### Preprocessing the Training set"
      ]
    },
    {
      "cell_type": "code",
      "execution_count": 5,
      "metadata": {},
      "outputs": [],
      "source": [
        "# !mkdir dataset\n",
        "# !gdown https://drive.google.com/uc?id=1YA1xeNgtYcvLuOHw6ZOJckOKOmPAhPCZ -O dataset/CatsDogs.zip\n",
        "# !unzip -qq dataset/CatsDogs.zip -d datasets"
      ]
    },
    {
      "cell_type": "code",
      "execution_count": 6,
      "metadata": {
        "colab": {},
        "colab_type": "code",
        "id": "0koUcJMJpEBD"
      },
      "outputs": [
        {
          "name": "stdout",
          "output_type": "stream",
          "text": [
            "Found 4992 images belonging to 2 classes.\n"
          ]
        }
      ],
      "source": [
        "train_datagen = ImageDataGenerator(rescale=1./255,\n",
        "                                   shear_range=0.2,\n",
        "                                   zoom_range=0.2,\n",
        "                                   horizontal_flip=True)\n",
        "                                   \n",
        "training_set = train_datagen.flow_from_directory('dataset/CatsDogs/training_set',\n",
        "                                                 target_size=(64, 64),\n",
        "                                                 batch_size=32,\n",
        "                                                 class_mode='binary')"
      ]
    },
    {
      "cell_type": "markdown",
      "metadata": {
        "colab_type": "text",
        "id": "mrCMmGw9pHys"
      },
      "source": [
        "### Preprocessing the Test set"
      ]
    },
    {
      "cell_type": "code",
      "execution_count": 7,
      "metadata": {
        "colab": {},
        "colab_type": "code",
        "id": "SH4WzfOhpKc3"
      },
      "outputs": [
        {
          "name": "stdout",
          "output_type": "stream",
          "text": [
            "Found 2000 images belonging to 2 classes.\n"
          ]
        }
      ],
      "source": [
        "test_datagen = ImageDataGenerator(rescale=1./255)\n",
        "test_set = test_datagen.flow_from_directory('dataset/CatsDogs/test_set',\n",
        "                                            target_size=(64, 64),\n",
        "                                            batch_size=32,\n",
        "                                            class_mode='binary')"
      ]
    },
    {
      "cell_type": "markdown",
      "metadata": {
        "colab_type": "text",
        "id": "af8O4l90gk7B"
      },
      "source": [
        "## Part 2 - Building the CNN"
      ]
    },
    {
      "cell_type": "markdown",
      "metadata": {
        "colab_type": "text",
        "id": "ces1gXY2lmoX"
      },
      "source": [
        "### Initialising the CNN"
      ]
    },
    {
      "cell_type": "code",
      "execution_count": 8,
      "metadata": {
        "colab": {},
        "colab_type": "code",
        "id": "SAUt4UMPlhLS"
      },
      "outputs": [],
      "source": [
        "cnn = tf.keras.models.Sequential()"
      ]
    },
    {
      "cell_type": "markdown",
      "metadata": {
        "colab_type": "text",
        "id": "u5YJj_XMl5LF"
      },
      "source": [
        "### Step 1 - Convolution"
      ]
    },
    {
      "cell_type": "code",
      "execution_count": 9,
      "metadata": {
        "colab": {},
        "colab_type": "code",
        "id": "XPzPrMckl-hV"
      },
      "outputs": [],
      "source": [
        "cnn.add(tf.keras.layers.Conv2D(filters=32, kernel_size=3, activation='relu', input_shape=[64, 64, 3]))"
      ]
    },
    {
      "cell_type": "markdown",
      "metadata": {
        "colab_type": "text",
        "id": "tf87FpvxmNOJ"
      },
      "source": [
        "### Step 2 - Pooling"
      ]
    },
    {
      "cell_type": "code",
      "execution_count": 10,
      "metadata": {
        "colab": {},
        "colab_type": "code",
        "id": "ncpqPl69mOac"
      },
      "outputs": [],
      "source": [
        "cnn.add(tf.keras.layers.MaxPool2D(pool_size=2, strides=2))"
      ]
    },
    {
      "cell_type": "markdown",
      "metadata": {
        "colab_type": "text",
        "id": "xaTOgD8rm4mU"
      },
      "source": [
        "### Adding a second convolutional layer"
      ]
    },
    {
      "cell_type": "code",
      "execution_count": 11,
      "metadata": {
        "colab": {},
        "colab_type": "code",
        "id": "i_-FZjn_m8gk"
      },
      "outputs": [],
      "source": [
        "cnn.add(tf.keras.layers.Conv2D(filters=32, kernel_size=3, activation='relu'))\n",
        "cnn.add(tf.keras.layers.MaxPool2D(pool_size=2, strides=2))"
      ]
    },
    {
      "cell_type": "markdown",
      "metadata": {
        "colab_type": "text",
        "id": "tmiEuvTunKfk"
      },
      "source": [
        "### Step 3 - Flattening"
      ]
    },
    {
      "cell_type": "code",
      "execution_count": 12,
      "metadata": {
        "colab": {},
        "colab_type": "code",
        "id": "6AZeOGCvnNZn"
      },
      "outputs": [],
      "source": [
        "cnn.add(tf.keras.layers.Flatten())"
      ]
    },
    {
      "cell_type": "markdown",
      "metadata": {
        "colab_type": "text",
        "id": "dAoSECOm203v"
      },
      "source": [
        "### Step 4 - Full Connection"
      ]
    },
    {
      "cell_type": "code",
      "execution_count": 13,
      "metadata": {
        "colab": {},
        "colab_type": "code",
        "id": "8GtmUlLd26Nq"
      },
      "outputs": [],
      "source": [
        "cnn.add(tf.keras.layers.Dense(units=128, activation='relu'))"
      ]
    },
    {
      "cell_type": "markdown",
      "metadata": {
        "colab_type": "text",
        "id": "yTldFvbX28Na"
      },
      "source": [
        "### Step 5 - Output Layer"
      ]
    },
    {
      "cell_type": "code",
      "execution_count": 14,
      "metadata": {
        "colab": {},
        "colab_type": "code",
        "id": "1p_Zj1Mc3Ko_"
      },
      "outputs": [],
      "source": [
        "cnn.add(tf.keras.layers.Dense(units=1, activation='sigmoid'))"
      ]
    },
    {
      "cell_type": "markdown",
      "metadata": {
        "colab_type": "text",
        "id": "D6XkI90snSDl"
      },
      "source": [
        "## Part 3 - Training the CNN"
      ]
    },
    {
      "cell_type": "markdown",
      "metadata": {
        "colab_type": "text",
        "id": "vfrFQACEnc6i"
      },
      "source": [
        "### Compiling the CNN"
      ]
    },
    {
      "cell_type": "code",
      "execution_count": 15,
      "metadata": {
        "colab": {},
        "colab_type": "code",
        "id": "NALksrNQpUlJ"
      },
      "outputs": [],
      "source": [
        "cnn.compile(optimizer='adam', loss='binary_crossentropy', metrics=['accuracy'])"
      ]
    },
    {
      "cell_type": "markdown",
      "metadata": {
        "colab_type": "text",
        "id": "ehS-v3MIpX2h"
      },
      "source": [
        "### Training the CNN on the Training set and evaluating it on the Test set"
      ]
    },
    {
      "cell_type": "code",
      "execution_count": 16,
      "metadata": {
        "colab": {},
        "colab_type": "code",
        "id": "XUj1W4PJptta"
      },
      "outputs": [
        {
          "name": "stdout",
          "output_type": "stream",
          "text": [
            "Epoch 1/25\n",
            "156/156 [==============================] - 27s 166ms/step - loss: 0.5127 - accuracy: 0.7977 - val_loss: 0.8942 - val_accuracy: 0.5000\n",
            "Epoch 2/25\n",
            "156/156 [==============================] - 24s 156ms/step - loss: 0.4746 - accuracy: 0.8015 - val_loss: 0.9048 - val_accuracy: 0.5045\n",
            "Epoch 3/25\n",
            "156/156 [==============================] - 25s 158ms/step - loss: 0.4503 - accuracy: 0.8125 - val_loss: 0.5997 - val_accuracy: 0.6990\n",
            "Epoch 4/25\n",
            "156/156 [==============================] - 25s 159ms/step - loss: 0.4354 - accuracy: 0.8195 - val_loss: 0.7331 - val_accuracy: 0.5585\n",
            "Epoch 5/25\n",
            "156/156 [==============================] - 24s 154ms/step - loss: 0.4223 - accuracy: 0.8165 - val_loss: 0.6428 - val_accuracy: 0.6520\n",
            "Epoch 6/25\n",
            "156/156 [==============================] - 24s 156ms/step - loss: 0.4056 - accuracy: 0.8309 - val_loss: 0.5720 - val_accuracy: 0.7210\n",
            "Epoch 7/25\n",
            "156/156 [==============================] - 24s 155ms/step - loss: 0.3944 - accuracy: 0.8379 - val_loss: 0.6268 - val_accuracy: 0.6925\n",
            "Epoch 8/25\n",
            "156/156 [==============================] - 25s 160ms/step - loss: 0.3790 - accuracy: 0.8383 - val_loss: 0.6644 - val_accuracy: 0.7110\n",
            "Epoch 9/25\n",
            "156/156 [==============================] - 25s 163ms/step - loss: 0.3604 - accuracy: 0.8458 - val_loss: 0.6613 - val_accuracy: 0.6830\n",
            "Epoch 10/25\n",
            "156/156 [==============================] - 24s 155ms/step - loss: 0.3597 - accuracy: 0.8435 - val_loss: 0.8260 - val_accuracy: 0.6520\n",
            "Epoch 11/25\n",
            "156/156 [==============================] - 24s 156ms/step - loss: 0.3546 - accuracy: 0.8486 - val_loss: 0.6193 - val_accuracy: 0.7115\n",
            "Epoch 12/25\n",
            "156/156 [==============================] - 24s 154ms/step - loss: 0.3413 - accuracy: 0.8560 - val_loss: 0.5331 - val_accuracy: 0.7575\n",
            "Epoch 13/25\n",
            "156/156 [==============================] - 24s 155ms/step - loss: 0.3324 - accuracy: 0.8592 - val_loss: 0.5153 - val_accuracy: 0.7620\n",
            "Epoch 14/25\n",
            "156/156 [==============================] - 24s 156ms/step - loss: 0.3304 - accuracy: 0.8602 - val_loss: 0.7665 - val_accuracy: 0.6590\n",
            "Epoch 15/25\n",
            "156/156 [==============================] - 24s 156ms/step - loss: 0.3262 - accuracy: 0.8608 - val_loss: 0.7253 - val_accuracy: 0.6930\n",
            "Epoch 16/25\n",
            "156/156 [==============================] - 24s 153ms/step - loss: 0.3051 - accuracy: 0.8762 - val_loss: 0.6339 - val_accuracy: 0.7255\n",
            "Epoch 17/25\n",
            "156/156 [==============================] - 24s 151ms/step - loss: 0.3013 - accuracy: 0.8750 - val_loss: 0.5992 - val_accuracy: 0.7485\n",
            "Epoch 18/25\n",
            "156/156 [==============================] - 25s 158ms/step - loss: 0.2941 - accuracy: 0.8764 - val_loss: 0.5298 - val_accuracy: 0.7665\n",
            "Epoch 19/25\n",
            "156/156 [==============================] - 24s 153ms/step - loss: 0.2808 - accuracy: 0.8822 - val_loss: 0.5931 - val_accuracy: 0.7510\n",
            "Epoch 20/25\n",
            "156/156 [==============================] - 24s 154ms/step - loss: 0.2712 - accuracy: 0.8854 - val_loss: 0.7108 - val_accuracy: 0.7135\n",
            "Epoch 21/25\n",
            "156/156 [==============================] - 24s 153ms/step - loss: 0.2673 - accuracy: 0.8864 - val_loss: 0.6384 - val_accuracy: 0.7405\n",
            "Epoch 22/25\n",
            "156/156 [==============================] - 24s 152ms/step - loss: 0.2584 - accuracy: 0.8910 - val_loss: 0.6530 - val_accuracy: 0.7470\n",
            "Epoch 23/25\n",
            "156/156 [==============================] - 24s 152ms/step - loss: 0.2538 - accuracy: 0.8944 - val_loss: 0.5819 - val_accuracy: 0.7690\n",
            "Epoch 24/25\n",
            "156/156 [==============================] - 24s 152ms/step - loss: 0.2274 - accuracy: 0.9083 - val_loss: 0.5843 - val_accuracy: 0.7800\n",
            "Epoch 25/25\n",
            "156/156 [==============================] - 24s 152ms/step - loss: 0.2309 - accuracy: 0.9089 - val_loss: 0.5459 - val_accuracy: 0.7755\n"
          ]
        },
        {
          "data": {
            "text/plain": [
              "<keras.callbacks.History at 0x26f1ad975e0>"
            ]
          },
          "execution_count": 16,
          "metadata": {},
          "output_type": "execute_result"
        }
      ],
      "source": [
        "cnn.fit(x=training_set, validation_data=test_set, epochs=25)"
      ]
    },
    {
      "cell_type": "markdown",
      "metadata": {
        "colab_type": "text",
        "id": "U3PZasO0006Z"
      },
      "source": [
        "## Part 4 - Making a single prediction"
      ]
    },
    {
      "cell_type": "code",
      "execution_count": 18,
      "metadata": {
        "colab": {},
        "colab_type": "code",
        "id": "gsSiWEJY1BPB"
      },
      "outputs": [
        {
          "name": "stdout",
          "output_type": "stream",
          "text": [
            "1/1 [==============================] - 0s 128ms/step\n"
          ]
        }
      ],
      "source": [
        "import numpy as np\n",
        "from keras.utils import load_img, img_to_array\n",
        "\n",
        "test_image = load_img('dataset/CatsDogs/single_prediction/cat_or_dog_1.jpg', target_size=(64, 64))\n",
        "test_image = img_to_array(test_image)\n",
        "test_image = np.expand_dims(test_image, axis=0)\n",
        "result = cnn.predict(test_image)\n",
        "training_set.class_indices\n",
        "if result[0][0] == 1:\n",
        "    prediction = 'dog'\n",
        "else:\n",
        "    prediction = 'cat'"
      ]
    },
    {
      "cell_type": "code",
      "execution_count": 37,
      "metadata": {
        "colab": {},
        "colab_type": "code",
        "id": "ED9KB3I54c1i"
      },
      "outputs": [
        {
          "name": "stdout",
          "output_type": "stream",
          "text": [
            "dog\n"
          ]
        },
        {
          "data": {
            "image/png": "[encoded data removed]",
            "text/plain": [
              "<Figure size 640x480 with 1 Axes>"
            ]
          },
          "metadata": {},
          "output_type": "display_data"
        }
      ],
      "source": [
        "import matplotlib.pyplot as plt\n",
        "\n",
        "print(prediction)\n",
        "plt.imshow(test_image.squeeze().astype('int32'));"
      ]
    }
  ],
  "metadata": {
    "colab": {
      "collapsed_sections": [],
      "name": "convolutional_neural_network.ipynb",
      "provenance": [],
      "toc_visible": true
    },
    "kernelspec": {
      "display_name": "Python 3.9.15 ('base')",
      "language": "python",
      "name": "python3"
    },
    "language_info": {
      "codemirror_mode": {
        "name": "ipython",
        "version": 3
      },
      "file_extension": ".py",
      "mimetype": "text/x-python",
      "name": "python",
      "nbconvert_exporter": "python",
      "pygments_lexer": "ipython3",
      "version": "3.9.15"
    },
    "vscode": {
      "interpreter": {
        "hash": "3cfd106f785ae1e288da74ae733f9b47f8a2699db986927140be0bc196406f4c"
      }
    }
  },
  "nbformat": 4,
  "nbformat_minor": 0
}
