{
 "cells": [
  {
   "cell_type": "markdown",
   "metadata": {},
   "source": [
    "# Data Preprocessing"
   ]
  },
  {
   "cell_type": "markdown",
   "metadata": {},
   "source": [
    "## Importing the dataset"
   ]
  },
  {
   "cell_type": "code",
   "execution_count": 3,
   "metadata": {},
   "outputs": [
    {
     "data": {
      "text/html": [
       "<table>\n",
       "<thead><tr><th scope=col>Country</th><th scope=col>Age</th><th scope=col>Salary</th><th scope=col>Purchased</th></tr></thead>\n",
       "<tbody>\n",
       "\t<tr><td>France </td><td>44     </td><td>72000  </td><td>No     </td></tr>\n",
       "\t<tr><td>Spain  </td><td>27     </td><td>48000  </td><td>Yes    </td></tr>\n",
       "\t<tr><td>Germany</td><td>30     </td><td>54000  </td><td>No     </td></tr>\n",
       "\t<tr><td>Spain  </td><td>38     </td><td>61000  </td><td>No     </td></tr>\n",
       "\t<tr><td>Germany</td><td>40     </td><td>   NA  </td><td>Yes    </td></tr>\n",
       "\t<tr><td>France </td><td>35     </td><td>58000  </td><td>Yes    </td></tr>\n",
       "\t<tr><td>Spain  </td><td>NA     </td><td>52000  </td><td>No     </td></tr>\n",
       "\t<tr><td>France </td><td>48     </td><td>79000  </td><td>Yes    </td></tr>\n",
       "\t<tr><td>Germany</td><td>50     </td><td>83000  </td><td>No     </td></tr>\n",
       "\t<tr><td>France </td><td>37     </td><td>67000  </td><td>Yes    </td></tr>\n",
       "</tbody>\n",
       "</table>\n"
      ],
      "text/latex": [
       "\\begin{tabular}{r|llll}\n",
       " Country & Age & Salary & Purchased\\\\\n",
       "\\hline\n",
       "\t France  & 44      & 72000   & No     \\\\\n",
       "\t Spain   & 27      & 48000   & Yes    \\\\\n",
       "\t Germany & 30      & 54000   & No     \\\\\n",
       "\t Spain   & 38      & 61000   & No     \\\\\n",
       "\t Germany & 40      &    NA   & Yes    \\\\\n",
       "\t France  & 35      & 58000   & Yes    \\\\\n",
       "\t Spain   & NA      & 52000   & No     \\\\\n",
       "\t France  & 48      & 79000   & Yes    \\\\\n",
       "\t Germany & 50      & 83000   & No     \\\\\n",
       "\t France  & 37      & 67000   & Yes    \\\\\n",
       "\\end{tabular}\n"
      ],
      "text/markdown": [
       "\n",
       "| Country | Age | Salary | Purchased |\n",
       "|---|---|---|---|\n",
       "| France  | 44      | 72000   | No      |\n",
       "| Spain   | 27      | 48000   | Yes     |\n",
       "| Germany | 30      | 54000   | No      |\n",
       "| Spain   | 38      | 61000   | No      |\n",
       "| Germany | 40      |    NA   | Yes     |\n",
       "| France  | 35      | 58000   | Yes     |\n",
       "| Spain   | NA      | 52000   | No      |\n",
       "| France  | 48      | 79000   | Yes     |\n",
       "| Germany | 50      | 83000   | No      |\n",
       "| France  | 37      | 67000   | Yes     |\n",
       "\n"
      ],
      "text/plain": [
       "   Country Age Salary Purchased\n",
       "1  France  44  72000  No       \n",
       "2  Spain   27  48000  Yes      \n",
       "3  Germany 30  54000  No       \n",
       "4  Spain   38  61000  No       \n",
       "5  Germany 40     NA  Yes      \n",
       "6  France  35  58000  Yes      \n",
       "7  Spain   NA  52000  No       \n",
       "8  France  48  79000  Yes      \n",
       "9  Germany 50  83000  No       \n",
       "10 France  37  67000  Yes      "
      ]
     },
     "metadata": {},
     "output_type": "display_data"
    }
   ],
   "source": [
    "# Reads a file in table format and creates a data frame from it, with cases corresponding to lines and variables to fields in the file.\n",
    "dataset = read.csv('Data/Data.csv')\n",
    "dataset"
   ]
  },
  {
   "cell_type": "markdown",
   "metadata": {},
   "source": [
    "## Taking care of missing data"
   ]
  },
  {
   "cell_type": "code",
   "execution_count": 6,
   "metadata": {},
   "outputs": [
    {
     "data": {
      "text/html": [
       "<table>\n",
       "<thead><tr><th scope=col>Country</th><th scope=col>Age</th><th scope=col>Salary</th><th scope=col>Purchased</th></tr></thead>\n",
       "<tbody>\n",
       "\t<tr><td>France  </td><td>44.00000</td><td>72000.00</td><td>No      </td></tr>\n",
       "\t<tr><td>Spain   </td><td>27.00000</td><td>48000.00</td><td>Yes     </td></tr>\n",
       "\t<tr><td>Germany </td><td>30.00000</td><td>54000.00</td><td>No      </td></tr>\n",
       "\t<tr><td>Spain   </td><td>38.00000</td><td>61000.00</td><td>No      </td></tr>\n",
       "\t<tr><td>Germany </td><td>40.00000</td><td>63777.78</td><td>Yes     </td></tr>\n",
       "\t<tr><td>France  </td><td>35.00000</td><td>58000.00</td><td>Yes     </td></tr>\n",
       "\t<tr><td>Spain   </td><td>38.77778</td><td>52000.00</td><td>No      </td></tr>\n",
       "\t<tr><td>France  </td><td>48.00000</td><td>79000.00</td><td>Yes     </td></tr>\n",
       "\t<tr><td>Germany </td><td>50.00000</td><td>83000.00</td><td>No      </td></tr>\n",
       "\t<tr><td>France  </td><td>37.00000</td><td>67000.00</td><td>Yes     </td></tr>\n",
       "</tbody>\n",
       "</table>\n"
      ],
      "text/latex": [
       "\\begin{tabular}{r|llll}\n",
       " Country & Age & Salary & Purchased\\\\\n",
       "\\hline\n",
       "\t France   & 44.00000 & 72000.00 & No      \\\\\n",
       "\t Spain    & 27.00000 & 48000.00 & Yes     \\\\\n",
       "\t Germany  & 30.00000 & 54000.00 & No      \\\\\n",
       "\t Spain    & 38.00000 & 61000.00 & No      \\\\\n",
       "\t Germany  & 40.00000 & 63777.78 & Yes     \\\\\n",
       "\t France   & 35.00000 & 58000.00 & Yes     \\\\\n",
       "\t Spain    & 38.77778 & 52000.00 & No      \\\\\n",
       "\t France   & 48.00000 & 79000.00 & Yes     \\\\\n",
       "\t Germany  & 50.00000 & 83000.00 & No      \\\\\n",
       "\t France   & 37.00000 & 67000.00 & Yes     \\\\\n",
       "\\end{tabular}\n"
      ],
      "text/markdown": [
       "\n",
       "| Country | Age | Salary | Purchased |\n",
       "|---|---|---|---|\n",
       "| France   | 44.00000 | 72000.00 | No       |\n",
       "| Spain    | 27.00000 | 48000.00 | Yes      |\n",
       "| Germany  | 30.00000 | 54000.00 | No       |\n",
       "| Spain    | 38.00000 | 61000.00 | No       |\n",
       "| Germany  | 40.00000 | 63777.78 | Yes      |\n",
       "| France   | 35.00000 | 58000.00 | Yes      |\n",
       "| Spain    | 38.77778 | 52000.00 | No       |\n",
       "| France   | 48.00000 | 79000.00 | Yes      |\n",
       "| Germany  | 50.00000 | 83000.00 | No       |\n",
       "| France   | 37.00000 | 67000.00 | Yes      |\n",
       "\n"
      ],
      "text/plain": [
       "   Country Age      Salary   Purchased\n",
       "1  France  44.00000 72000.00 No       \n",
       "2  Spain   27.00000 48000.00 Yes      \n",
       "3  Germany 30.00000 54000.00 No       \n",
       "4  Spain   38.00000 61000.00 No       \n",
       "5  Germany 40.00000 63777.78 Yes      \n",
       "6  France  35.00000 58000.00 Yes      \n",
       "7  Spain   38.77778 52000.00 No       \n",
       "8  France  48.00000 79000.00 Yes      \n",
       "9  Germany 50.00000 83000.00 No       \n",
       "10 France  37.00000 67000.00 Yes      "
      ]
     },
     "metadata": {},
     "output_type": "display_data"
    }
   ],
   "source": [
    "# ifelse(test, yes, no)\n",
    "\n",
    "# Subsets of x[] are averaged, where each subset consist of those observations with the same factor levels.\n",
    "# ave(x, ..., FUN = mean)\n",
    "dataset$Age = ifelse(is.na(dataset$Age),\n",
    "                     ave(dataset$Age, FUN=function(x) mean(x, na.rm=TRUE)),\n",
    "                     dataset$Age)\n",
    "                     \n",
    "dataset$Salary = ifelse(is.na(dataset$Salary),\n",
    "                        ave(dataset$Salary, FUN=function(x) mean(x, na.rm=TRUE)),\n",
    "                        dataset$Salary)\n",
    "                        \n",
    "dataset"
   ]
  },
  {
   "cell_type": "markdown",
   "metadata": {},
   "source": [
    "## Encoding categorical data"
   ]
  },
  {
   "cell_type": "code",
   "execution_count": 8,
   "metadata": {},
   "outputs": [
    {
     "data": {
      "text/html": [
       "<table>\n",
       "<thead><tr><th scope=col>Country</th><th scope=col>Age</th><th scope=col>Salary</th><th scope=col>Purchased</th></tr></thead>\n",
       "<tbody>\n",
       "\t<tr><td>1       </td><td>44.00000</td><td>72000.00</td><td>0       </td></tr>\n",
       "\t<tr><td>2       </td><td>27.00000</td><td>48000.00</td><td>1       </td></tr>\n",
       "\t<tr><td>3       </td><td>30.00000</td><td>54000.00</td><td>0       </td></tr>\n",
       "\t<tr><td>2       </td><td>38.00000</td><td>61000.00</td><td>0       </td></tr>\n",
       "\t<tr><td>3       </td><td>40.00000</td><td>63777.78</td><td>1       </td></tr>\n",
       "\t<tr><td>1       </td><td>35.00000</td><td>58000.00</td><td>1       </td></tr>\n",
       "\t<tr><td>2       </td><td>38.77778</td><td>52000.00</td><td>0       </td></tr>\n",
       "\t<tr><td>1       </td><td>48.00000</td><td>79000.00</td><td>1       </td></tr>\n",
       "\t<tr><td>3       </td><td>50.00000</td><td>83000.00</td><td>0       </td></tr>\n",
       "\t<tr><td>1       </td><td>37.00000</td><td>67000.00</td><td>1       </td></tr>\n",
       "</tbody>\n",
       "</table>\n"
      ],
      "text/latex": [
       "\\begin{tabular}{r|llll}\n",
       " Country & Age & Salary & Purchased\\\\\n",
       "\\hline\n",
       "\t 1        & 44.00000 & 72000.00 & 0       \\\\\n",
       "\t 2        & 27.00000 & 48000.00 & 1       \\\\\n",
       "\t 3        & 30.00000 & 54000.00 & 0       \\\\\n",
       "\t 2        & 38.00000 & 61000.00 & 0       \\\\\n",
       "\t 3        & 40.00000 & 63777.78 & 1       \\\\\n",
       "\t 1        & 35.00000 & 58000.00 & 1       \\\\\n",
       "\t 2        & 38.77778 & 52000.00 & 0       \\\\\n",
       "\t 1        & 48.00000 & 79000.00 & 1       \\\\\n",
       "\t 3        & 50.00000 & 83000.00 & 0       \\\\\n",
       "\t 1        & 37.00000 & 67000.00 & 1       \\\\\n",
       "\\end{tabular}\n"
      ],
      "text/markdown": [
       "\n",
       "| Country | Age | Salary | Purchased |\n",
       "|---|---|---|---|\n",
       "| 1        | 44.00000 | 72000.00 | 0        |\n",
       "| 2        | 27.00000 | 48000.00 | 1        |\n",
       "| 3        | 30.00000 | 54000.00 | 0        |\n",
       "| 2        | 38.00000 | 61000.00 | 0        |\n",
       "| 3        | 40.00000 | 63777.78 | 1        |\n",
       "| 1        | 35.00000 | 58000.00 | 1        |\n",
       "| 2        | 38.77778 | 52000.00 | 0        |\n",
       "| 1        | 48.00000 | 79000.00 | 1        |\n",
       "| 3        | 50.00000 | 83000.00 | 0        |\n",
       "| 1        | 37.00000 | 67000.00 | 1        |\n",
       "\n"
      ],
      "text/plain": [
       "   Country Age      Salary   Purchased\n",
       "1  1       44.00000 72000.00 0        \n",
       "2  2       27.00000 48000.00 1        \n",
       "3  3       30.00000 54000.00 0        \n",
       "4  2       38.00000 61000.00 0        \n",
       "5  3       40.00000 63777.78 1        \n",
       "6  1       35.00000 58000.00 1        \n",
       "7  2       38.77778 52000.00 0        \n",
       "8  1       48.00000 79000.00 1        \n",
       "9  3       50.00000 83000.00 0        \n",
       "10 1       37.00000 67000.00 1        "
      ]
     },
     "metadata": {},
     "output_type": "display_data"
    }
   ],
   "source": [
    "# The function factor is used to encode a vector as a factor\n",
    "\n",
    "dataset$Country = factor(dataset$Country,\n",
    "                         levels=c('France', 'Spain', 'Germany'),\n",
    "                         labels=c(1, 2, 3))\n",
    "\n",
    "dataset$Purchased = factor(dataset$Purchased,\n",
    "                           levels=c('No', 'Yes'),\n",
    "                           labels=c(0, 1))\n",
    "\n",
    "dataset"
   ]
  }
 ],
 "metadata": {
  "kernelspec": {
   "display_name": "R",
   "language": "R",
   "name": "ir"
  },
  "language_info": {
   "codemirror_mode": "r",
   "file_extension": ".r",
   "mimetype": "text/x-r-source",
   "name": "R",
   "pygments_lexer": "r",
   "version": "3.6.1"
  },
  "vscode": {
   "interpreter": {
    "hash": "799a5efcc49f70a307337cdec5e9508550d6e888b37ec58cecbd847b47f3e6ac"
   }
  }
 },
 "nbformat": 4,
 "nbformat_minor": 4
}
