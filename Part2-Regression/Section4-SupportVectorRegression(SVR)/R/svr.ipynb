{
 "cells": [
  {
   "cell_type": "markdown",
   "metadata": {},
   "source": [
    "## SVR"
   ]
  },
  {
   "cell_type": "markdown",
   "metadata": {},
   "source": [
    "## Importing the dataset"
   ]
  },
  {
   "cell_type": "code",
   "execution_count": 2,
   "metadata": {
    "vscode": {
     "languageId": "r"
    }
   },
   "outputs": [
    {
     "data": {
      "text/html": [
       "<table>\n",
       "<thead><tr><th scope=col>Level</th><th scope=col>Salary</th></tr></thead>\n",
       "<tbody>\n",
       "\t<tr><td> 1     </td><td>  45000</td></tr>\n",
       "\t<tr><td> 2     </td><td>  50000</td></tr>\n",
       "\t<tr><td> 3     </td><td>  60000</td></tr>\n",
       "\t<tr><td> 4     </td><td>  80000</td></tr>\n",
       "\t<tr><td> 5     </td><td> 110000</td></tr>\n",
       "\t<tr><td> 6     </td><td> 150000</td></tr>\n",
       "\t<tr><td> 7     </td><td> 200000</td></tr>\n",
       "\t<tr><td> 8     </td><td> 300000</td></tr>\n",
       "\t<tr><td> 9     </td><td> 500000</td></tr>\n",
       "\t<tr><td>10     </td><td>1000000</td></tr>\n",
       "</tbody>\n",
       "</table>\n"
      ],
      "text/latex": [
       "\\begin{tabular}{r|ll}\n",
       " Level & Salary\\\\\n",
       "\\hline\n",
       "\t  1      &   45000\\\\\n",
       "\t  2      &   50000\\\\\n",
       "\t  3      &   60000\\\\\n",
       "\t  4      &   80000\\\\\n",
       "\t  5      &  110000\\\\\n",
       "\t  6      &  150000\\\\\n",
       "\t  7      &  200000\\\\\n",
       "\t  8      &  300000\\\\\n",
       "\t  9      &  500000\\\\\n",
       "\t 10      & 1000000\\\\\n",
       "\\end{tabular}\n"
      ],
      "text/markdown": [
       "\n",
       "| Level | Salary |\n",
       "|---|---|\n",
       "|  1      |   45000 |\n",
       "|  2      |   50000 |\n",
       "|  3      |   60000 |\n",
       "|  4      |   80000 |\n",
       "|  5      |  110000 |\n",
       "|  6      |  150000 |\n",
       "|  7      |  200000 |\n",
       "|  8      |  300000 |\n",
       "|  9      |  500000 |\n",
       "| 10      | 1000000 |\n",
       "\n"
      ],
      "text/plain": [
       "   Level Salary \n",
       "1   1      45000\n",
       "2   2      50000\n",
       "3   3      60000\n",
       "4   4      80000\n",
       "5   5     110000\n",
       "6   6     150000\n",
       "7   7     200000\n",
       "8   8     300000\n",
       "9   9     500000\n",
       "10 10    1000000"
      ]
     },
     "metadata": {},
     "output_type": "display_data"
    }
   ],
   "source": [
    "dataset = read.csv('Position_Salaries.csv')\n",
    "dataset = dataset[2:3]\n",
    "dataset"
   ]
  },
  {
   "cell_type": "markdown",
   "metadata": {},
   "source": [
    "## Fitting SVR to the dataset"
   ]
  },
  {
   "cell_type": "code",
   "execution_count": null,
   "metadata": {
    "vscode": {
     "languageId": "r"
    }
   },
   "outputs": [],
   "source": [
    "# install.packages('e1071')"
   ]
  },
  {
   "cell_type": "code",
   "execution_count": 5,
   "metadata": {
    "vscode": {
     "languageId": "r"
    }
   },
   "outputs": [
    {
     "name": "stderr",
     "output_type": "stream",
     "text": [
      "Warning message:\n",
      "\"package 'e1071' was built under R version 3.6.3\""
     ]
    }
   ],
   "source": [
    "library(e1071)\n",
    "regressor = svm(formula=Salary ~ .,\n",
    "                data=dataset,\n",
    "                type='eps-regression',\n",
    "                kernel='radial')"
   ]
  },
  {
   "cell_type": "markdown",
   "metadata": {},
   "source": [
    "## Predicting a new result"
   ]
  },
  {
   "cell_type": "code",
   "execution_count": 7,
   "metadata": {
    "vscode": {
     "languageId": "r"
    }
   },
   "outputs": [
    {
     "data": {
      "text/html": [
       "<strong>1:</strong> 177861.113529654"
      ],
      "text/latex": [
       "\\textbf{1:} 177861.113529654"
      ],
      "text/markdown": [
       "**1:** 177861.113529654"
      ],
      "text/plain": [
       "       1 \n",
       "177861.1 "
      ]
     },
     "metadata": {},
     "output_type": "display_data"
    }
   ],
   "source": [
    "y_pred = predict(regressor, data.frame(Level=6.5))\n",
    "y_pred"
   ]
  },
  {
   "cell_type": "markdown",
   "metadata": {},
   "source": [
    "## Visualising the SVR results"
   ]
  },
  {
   "cell_type": "code",
   "execution_count": 9,
   "metadata": {
    "vscode": {
     "languageId": "r"
    }
   },
   "outputs": [
    {
     "data": {
      "image/png": "[encoded data removed]",
      "text/plain": [
       "plot without title"
      ]
     },
     "metadata": {},
     "output_type": "display_data"
    }
   ],
   "source": [
    "library(ggplot2)\n",
    "ggplot() + geom_point(aes(x=dataset$Level, y=dataset$Salary), colour='red') +\n",
    "geom_line(aes(x=dataset$Level, y=predict(regressor, newdata=dataset)), colour='blue') +\n",
    "ggtitle('Truth or Bluff (SVR)') +\n",
    "xlab('Level') +\n",
    "ylab('Salary')"
   ]
  },
  {
   "cell_type": "markdown",
   "metadata": {},
   "source": [
    "## Visualising the SVR results (for higher resolution and smoother curve)"
   ]
  },
  {
   "cell_type": "code",
   "execution_count": 10,
   "metadata": {
    "vscode": {
     "languageId": "r"
    }
   },
   "outputs": [
    {
     "data": {
      "image/png": "[encoded data removed]",
      "text/plain": [
       "plot without title"
      ]
     },
     "metadata": {},
     "output_type": "display_data"
    }
   ],
   "source": [
    "library(ggplot2)\n",
    "x_grid = seq(min(dataset$Level), max(dataset$Level), 0.1)\n",
    "\n",
    "ggplot() +\n",
    "geom_point(aes(x=dataset$Level, y=dataset$Salary), colour='red') +\n",
    "geom_line(aes(x=x_grid, y=predict(regressor, newdata=data.frame(Level=x_grid))), colour='blue') +\n",
    "ggtitle('Truth or Bluff (SVR)') +\n",
    "xlab('Level') +\n",
    "ylab('Salary')"
   ]
  }
 ],
 "metadata": {
  "kernelspec": {
   "display_name": "R",
   "language": "R",
   "name": "ir"
  },
  "language_info": {
   "codemirror_mode": "r",
   "file_extension": ".r",
   "mimetype": "text/x-r-source",
   "name": "R",
   "pygments_lexer": "r",
   "version": "3.6.1"
  },
  "orig_nbformat": 4,
  "vscode": {
   "interpreter": {
    "hash": "3cfd106f785ae1e288da74ae733f9b47f8a2699db986927140be0bc196406f4c"
   }
  }
 },
 "nbformat": 4,
 "nbformat_minor": 2
}
