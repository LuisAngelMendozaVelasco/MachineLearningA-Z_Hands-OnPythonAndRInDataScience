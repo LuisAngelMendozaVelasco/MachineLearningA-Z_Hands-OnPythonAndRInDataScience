{
 "cells": [
  {
   "cell_type": "markdown",
   "id": "faa28a9f-38bb-4ff7-8824-8b54a40e3ba7",
   "metadata": {},
   "source": [
    "# Simple Linear Regression"
   ]
  },
  {
   "cell_type": "markdown",
   "id": "e9613b2f-816f-4ba1-a411-02c188abc26a",
   "metadata": {},
   "source": [
    "## Importing the dataset"
   ]
  },
  {
   "cell_type": "code",
   "execution_count": 1,
   "id": "5feccbcd-9faa-40f2-a19a-589fa7946b94",
   "metadata": {
    "vscode": {
     "languageId": "r"
    }
   },
   "outputs": [
    {
     "data": {
      "text/html": [
       "<table>\n",
       "<thead><tr><th scope=col>YearsExperience</th><th scope=col>Salary</th></tr></thead>\n",
       "<tbody>\n",
       "\t<tr><td> 1.1  </td><td> 39343</td></tr>\n",
       "\t<tr><td> 1.3  </td><td> 46205</td></tr>\n",
       "\t<tr><td> 1.5  </td><td> 37731</td></tr>\n",
       "\t<tr><td> 2.0  </td><td> 43525</td></tr>\n",
       "\t<tr><td> 2.2  </td><td> 39891</td></tr>\n",
       "\t<tr><td> 2.9  </td><td> 56642</td></tr>\n",
       "\t<tr><td> 3.0  </td><td> 60150</td></tr>\n",
       "\t<tr><td> 3.2  </td><td> 54445</td></tr>\n",
       "\t<tr><td> 3.2  </td><td> 64445</td></tr>\n",
       "\t<tr><td> 3.7  </td><td> 57189</td></tr>\n",
       "\t<tr><td> 3.9  </td><td> 63218</td></tr>\n",
       "\t<tr><td> 4.0  </td><td> 55794</td></tr>\n",
       "\t<tr><td> 4.0  </td><td> 56957</td></tr>\n",
       "\t<tr><td> 4.1  </td><td> 57081</td></tr>\n",
       "\t<tr><td> 4.5  </td><td> 61111</td></tr>\n",
       "\t<tr><td> 4.9  </td><td> 67938</td></tr>\n",
       "\t<tr><td> 5.1  </td><td> 66029</td></tr>\n",
       "\t<tr><td> 5.3  </td><td> 83088</td></tr>\n",
       "\t<tr><td> 5.9  </td><td> 81363</td></tr>\n",
       "\t<tr><td> 6.0  </td><td> 93940</td></tr>\n",
       "\t<tr><td> 6.8  </td><td> 91738</td></tr>\n",
       "\t<tr><td> 7.1  </td><td> 98273</td></tr>\n",
       "\t<tr><td> 7.9  </td><td>101302</td></tr>\n",
       "\t<tr><td> 8.2  </td><td>113812</td></tr>\n",
       "\t<tr><td> 8.7  </td><td>109431</td></tr>\n",
       "\t<tr><td> 9.0  </td><td>105582</td></tr>\n",
       "\t<tr><td> 9.5  </td><td>116969</td></tr>\n",
       "\t<tr><td> 9.6  </td><td>112635</td></tr>\n",
       "\t<tr><td>10.3  </td><td>122391</td></tr>\n",
       "\t<tr><td>10.5  </td><td>121872</td></tr>\n",
       "</tbody>\n",
       "</table>\n"
      ],
      "text/latex": [
       "\\begin{tabular}{r|ll}\n",
       " YearsExperience & Salary\\\\\n",
       "\\hline\n",
       "\t  1.1   &  39343\\\\\n",
       "\t  1.3   &  46205\\\\\n",
       "\t  1.5   &  37731\\\\\n",
       "\t  2.0   &  43525\\\\\n",
       "\t  2.2   &  39891\\\\\n",
       "\t  2.9   &  56642\\\\\n",
       "\t  3.0   &  60150\\\\\n",
       "\t  3.2   &  54445\\\\\n",
       "\t  3.2   &  64445\\\\\n",
       "\t  3.7   &  57189\\\\\n",
       "\t  3.9   &  63218\\\\\n",
       "\t  4.0   &  55794\\\\\n",
       "\t  4.0   &  56957\\\\\n",
       "\t  4.1   &  57081\\\\\n",
       "\t  4.5   &  61111\\\\\n",
       "\t  4.9   &  67938\\\\\n",
       "\t  5.1   &  66029\\\\\n",
       "\t  5.3   &  83088\\\\\n",
       "\t  5.9   &  81363\\\\\n",
       "\t  6.0   &  93940\\\\\n",
       "\t  6.8   &  91738\\\\\n",
       "\t  7.1   &  98273\\\\\n",
       "\t  7.9   & 101302\\\\\n",
       "\t  8.2   & 113812\\\\\n",
       "\t  8.7   & 109431\\\\\n",
       "\t  9.0   & 105582\\\\\n",
       "\t  9.5   & 116969\\\\\n",
       "\t  9.6   & 112635\\\\\n",
       "\t 10.3   & 122391\\\\\n",
       "\t 10.5   & 121872\\\\\n",
       "\\end{tabular}\n"
      ],
      "text/markdown": [
       "\n",
       "| YearsExperience | Salary |\n",
       "|---|---|\n",
       "|  1.1   |  39343 |\n",
       "|  1.3   |  46205 |\n",
       "|  1.5   |  37731 |\n",
       "|  2.0   |  43525 |\n",
       "|  2.2   |  39891 |\n",
       "|  2.9   |  56642 |\n",
       "|  3.0   |  60150 |\n",
       "|  3.2   |  54445 |\n",
       "|  3.2   |  64445 |\n",
       "|  3.7   |  57189 |\n",
       "|  3.9   |  63218 |\n",
       "|  4.0   |  55794 |\n",
       "|  4.0   |  56957 |\n",
       "|  4.1   |  57081 |\n",
       "|  4.5   |  61111 |\n",
       "|  4.9   |  67938 |\n",
       "|  5.1   |  66029 |\n",
       "|  5.3   |  83088 |\n",
       "|  5.9   |  81363 |\n",
       "|  6.0   |  93940 |\n",
       "|  6.8   |  91738 |\n",
       "|  7.1   |  98273 |\n",
       "|  7.9   | 101302 |\n",
       "|  8.2   | 113812 |\n",
       "|  8.7   | 109431 |\n",
       "|  9.0   | 105582 |\n",
       "|  9.5   | 116969 |\n",
       "|  9.6   | 112635 |\n",
       "| 10.3   | 122391 |\n",
       "| 10.5   | 121872 |\n",
       "\n"
      ],
      "text/plain": [
       "   YearsExperience Salary\n",
       "1   1.1             39343\n",
       "2   1.3             46205\n",
       "3   1.5             37731\n",
       "4   2.0             43525\n",
       "5   2.2             39891\n",
       "6   2.9             56642\n",
       "7   3.0             60150\n",
       "8   3.2             54445\n",
       "9   3.2             64445\n",
       "10  3.7             57189\n",
       "11  3.9             63218\n",
       "12  4.0             55794\n",
       "13  4.0             56957\n",
       "14  4.1             57081\n",
       "15  4.5             61111\n",
       "16  4.9             67938\n",
       "17  5.1             66029\n",
       "18  5.3             83088\n",
       "19  5.9             81363\n",
       "20  6.0             93940\n",
       "21  6.8             91738\n",
       "22  7.1             98273\n",
       "23  7.9            101302\n",
       "24  8.2            113812\n",
       "25  8.7            109431\n",
       "26  9.0            105582\n",
       "27  9.5            116969\n",
       "28  9.6            112635\n",
       "29 10.3            122391\n",
       "30 10.5            121872"
      ]
     },
     "metadata": {},
     "output_type": "display_data"
    }
   ],
   "source": [
    "# Reads a file in table format and creates a data frame from it, with cases corresponding to lines and variables to fields in the file.\n",
    "dataset = read.csv('Salary_Data.csv')\n",
    "dataset"
   ]
  },
  {
   "cell_type": "markdown",
   "id": "670cbb84-e360-45a8-be1e-dab247456136",
   "metadata": {},
   "source": [
    "## Splitting the dataset into the Training set and Test set"
   ]
  },
  {
   "cell_type": "code",
   "execution_count": 2,
   "id": "ab50db92-bf81-4ffe-90fb-5e8452c04607",
   "metadata": {
    "vscode": {
     "languageId": "r"
    }
   },
   "outputs": [],
   "source": [
    "# Download and install packages from CRAN-like repositories or from local files.\n",
    "# install.packages('caTools')"
   ]
  },
  {
   "cell_type": "code",
   "execution_count": 3,
   "id": "5aad48b3-086a-41b8-9f82-b7bb1bf11c4c",
   "metadata": {
    "vscode": {
     "languageId": "r"
    }
   },
   "outputs": [
    {
     "name": "stderr",
     "output_type": "stream",
     "text": [
      "Warning message:\n",
      "\"package 'caTools' was built under R version 3.6.3\""
     ]
    }
   ],
   "source": [
    "library(caTools)\n",
    "set.seed(123)\n",
    "\n",
    "split = sample.split(dataset$Salary, SplitRatio=2/3)\n",
    "training_set = subset(dataset, split==TRUE)\n",
    "test_set = subset(dataset, split==FALSE)"
   ]
  },
  {
   "cell_type": "code",
   "execution_count": 4,
   "id": "5d7f2075-9834-4ea4-890e-81f1a8b69473",
   "metadata": {
    "vscode": {
     "languageId": "r"
    }
   },
   "outputs": [
    {
     "name": "stdout",
     "output_type": "stream",
     "text": [
      "training_set_shape:  20 , 2 \n",
      "test_set_shape:  10 , 2 \n"
     ]
    }
   ],
   "source": [
    "cat(\"training_set_shape: \", dim(training_set)[1], \",\", dim(training_set)[2], \"\\n\")\n",
    "cat(\"test_set_shape: \", dim(test_set)[1], \",\", dim(test_set)[2], \"\\n\")"
   ]
  },
  {
   "cell_type": "markdown",
   "id": "0da62dcb-9675-48b1-a0de-d85f81abad40",
   "metadata": {},
   "source": [
    "## Fitting Simple Linear Regression to the Training set"
   ]
  },
  {
   "cell_type": "code",
   "execution_count": 5,
   "id": "c5033806-9b27-402a-89ea-af7c0a8d6a06",
   "metadata": {
    "vscode": {
     "languageId": "r"
    }
   },
   "outputs": [
    {
     "data": {
      "text/plain": [
       "\n",
       "Call:\n",
       "lm(formula = Salary ~ YearsExperience, data = training_set)\n",
       "\n",
       "Coefficients:\n",
       "    (Intercept)  YearsExperience  \n",
       "          25592             9365  \n"
      ]
     },
     "metadata": {},
     "output_type": "display_data"
    }
   ],
   "source": [
    "# lm is used to fit linear models. It can be used to carry out regression, single stratum analysis of variance and analysis of covariance \n",
    "regressor = lm(formula=Salary ~ YearsExperience,\n",
    "               data=training_set)\n",
    "regressor"
   ]
  },
  {
   "cell_type": "markdown",
   "id": "6b13c530-bf90-44c0-8e16-d859867725f9",
   "metadata": {},
   "source": [
    "y_pred = predict(regressor, newdata=test_set)\n",
    "y_pred## Predicting the Test set results"
   ]
  },
  {
   "cell_type": "code",
   "execution_count": 6,
   "id": "b2683a3d-8673-407c-9ee1-e5589d2a6211",
   "metadata": {
    "vscode": {
     "languageId": "r"
    }
   },
   "outputs": [
    {
     "data": {
      "text/html": [
       "<table>\n",
       "<thead><tr><th></th><th scope=col>y_test</th><th scope=col>y_pred</th></tr></thead>\n",
       "<tbody>\n",
       "\t<tr><th scope=row>2</th><td> 46205   </td><td> 37766.77</td></tr>\n",
       "\t<tr><th scope=row>4</th><td> 43525   </td><td> 44322.33</td></tr>\n",
       "\t<tr><th scope=row>5</th><td> 39891   </td><td> 46195.35</td></tr>\n",
       "\t<tr><th scope=row>8</th><td> 54445   </td><td> 55560.43</td></tr>\n",
       "\t<tr><th scope=row>11</th><td> 63218   </td><td> 62115.99</td></tr>\n",
       "\t<tr><th scope=row>16</th><td> 67938   </td><td> 71481.07</td></tr>\n",
       "\t<tr><th scope=row>20</th><td> 93940   </td><td> 81782.66</td></tr>\n",
       "\t<tr><th scope=row>21</th><td> 91738   </td><td> 89274.72</td></tr>\n",
       "\t<tr><th scope=row>24</th><td>113812   </td><td>102385.84</td></tr>\n",
       "\t<tr><th scope=row>26</th><td>105582   </td><td>109877.90</td></tr>\n",
       "</tbody>\n",
       "</table>\n"
      ],
      "text/latex": [
       "\\begin{tabular}{r|ll}\n",
       "  & y\\_test & y\\_pred\\\\\n",
       "\\hline\n",
       "\t2 &  46205    &  37766.77\\\\\n",
       "\t4 &  43525    &  44322.33\\\\\n",
       "\t5 &  39891    &  46195.35\\\\\n",
       "\t8 &  54445    &  55560.43\\\\\n",
       "\t11 &  63218    &  62115.99\\\\\n",
       "\t16 &  67938    &  71481.07\\\\\n",
       "\t20 &  93940    &  81782.66\\\\\n",
       "\t21 &  91738    &  89274.72\\\\\n",
       "\t24 & 113812    & 102385.84\\\\\n",
       "\t26 & 105582    & 109877.90\\\\\n",
       "\\end{tabular}\n"
      ],
      "text/markdown": [
       "\n",
       "| <!--/--> | y_test | y_pred |\n",
       "|---|---|---|\n",
       "| 2 |  46205    |  37766.77 |\n",
       "| 4 |  43525    |  44322.33 |\n",
       "| 5 |  39891    |  46195.35 |\n",
       "| 8 |  54445    |  55560.43 |\n",
       "| 11 |  63218    |  62115.99 |\n",
       "| 16 |  67938    |  71481.07 |\n",
       "| 20 |  93940    |  81782.66 |\n",
       "| 21 |  91738    |  89274.72 |\n",
       "| 24 | 113812    | 102385.84 |\n",
       "| 26 | 105582    | 109877.90 |\n",
       "\n"
      ],
      "text/plain": [
       "   y_test y_pred   \n",
       "2   46205  37766.77\n",
       "4   43525  44322.33\n",
       "5   39891  46195.35\n",
       "8   54445  55560.43\n",
       "11  63218  62115.99\n",
       "16  67938  71481.07\n",
       "20  93940  81782.66\n",
       "21  91738  89274.72\n",
       "24 113812 102385.84\n",
       "26 105582 109877.90"
      ]
     },
     "metadata": {},
     "output_type": "display_data"
    }
   ],
   "source": [
    "# predict is a generic function for predictions from the results of various model fitting functions.\n",
    "y_pred = predict(regressor, newdata=test_set)\n",
    "data.frame(y_test=test_set$Salary, y_pred=y_pred)"
   ]
  },
  {
   "cell_type": "markdown",
   "id": "7312ff0d-9cfe-49f4-b9af-208ae00185e8",
   "metadata": {},
   "source": [
    "## Visualising the Training set results"
   ]
  },
  {
   "cell_type": "code",
   "execution_count": 7,
   "id": "7d1e6283-95ad-49ea-a235-b960b1c89570",
   "metadata": {
    "vscode": {
     "languageId": "r"
    }
   },
   "outputs": [
    {
     "name": "stderr",
     "output_type": "stream",
     "text": [
      "Registered S3 methods overwritten by 'ggplot2':\n",
      "  method         from \n",
      "  [.quosures     rlang\n",
      "  c.quosures     rlang\n",
      "  print.quosures rlang\n"
     ]
    },
    {
     "data": {
      "image/png": "[encoded data removed]",
      "text/plain": [
       "plot without title"
      ]
     },
     "metadata": {},
     "output_type": "display_data"
    }
   ],
   "source": [
    "library(ggplot2)\n",
    "ggplot() +\n",
    "geom_point(aes(x=training_set$YearsExperience, y=training_set$Salary), colour='red') +\n",
    "geom_line(aes(x=training_set$YearsExperience, y=predict(regressor, newdata=training_set)), colour='blue') +\n",
    "ggtitle('Salary vs Experience (Training set)') +\n",
    "xlab('Years of experience') +\n",
    "ylab('Salary')"
   ]
  },
  {
   "cell_type": "markdown",
   "id": "156dcfd1-80b8-4c9b-9e9f-6c4ddc3547db",
   "metadata": {},
   "source": [
    "## Visualising the Test set results"
   ]
  },
  {
   "cell_type": "code",
   "execution_count": 8,
   "id": "f9b465b5-3caa-4f1c-b5ae-ad068b88189a",
   "metadata": {
    "vscode": {
     "languageId": "r"
    }
   },
   "outputs": [
    {
     "data": {
      "image/png": "[encoded data removed]",
      "text/plain": [
       "plot without title"
      ]
     },
     "metadata": {},
     "output_type": "display_data"
    }
   ],
   "source": [
    "library(ggplot2)\n",
    "ggplot() +\n",
    "geom_point(aes(x=test_set$YearsExperience, y=test_set$Salary), colour='red') +\n",
    "geom_line(aes(x=training_set$YearsExperience, y=predict(regressor, newdata = training_set)), colour='blue') +\n",
    "ggtitle('Salary vs Experience (Test set)') +\n",
    "xlab('Years of experience') +\n",
    "ylab('Salary')"
   ]
  }
 ],
 "metadata": {
  "kernelspec": {
   "display_name": "R",
   "language": "R",
   "name": "ir"
  },
  "language_info": {
   "codemirror_mode": "r",
   "file_extension": ".r",
   "mimetype": "text/x-r-source",
   "name": "R",
   "pygments_lexer": "r",
   "version": "3.6.1"
  },
  "vscode": {
   "interpreter": {
    "hash": "6640c7a407d817221611adb3f4b16231656bf31b7b9e9484b49dc839398738ca"
   }
  }
 },
 "nbformat": 4,
 "nbformat_minor": 5
}
