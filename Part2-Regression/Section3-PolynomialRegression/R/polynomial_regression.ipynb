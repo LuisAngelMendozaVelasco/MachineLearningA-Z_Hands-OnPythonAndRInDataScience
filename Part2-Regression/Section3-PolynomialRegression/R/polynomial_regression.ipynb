{
 "cells": [
  {
   "cell_type": "markdown",
   "metadata": {},
   "source": [
    "# Polynomial Regression"
   ]
  },
  {
   "cell_type": "markdown",
   "metadata": {},
   "source": [
    "## Importing the dataset"
   ]
  },
  {
   "cell_type": "code",
   "execution_count": 1,
   "metadata": {
    "vscode": {
     "languageId": "r"
    }
   },
   "outputs": [
    {
     "data": {
      "text/html": [
       "<table>\n",
       "<thead><tr><th scope=col>Level</th><th scope=col>Salary</th></tr></thead>\n",
       "<tbody>\n",
       "\t<tr><td> 1     </td><td>  45000</td></tr>\n",
       "\t<tr><td> 2     </td><td>  50000</td></tr>\n",
       "\t<tr><td> 3     </td><td>  60000</td></tr>\n",
       "\t<tr><td> 4     </td><td>  80000</td></tr>\n",
       "\t<tr><td> 5     </td><td> 110000</td></tr>\n",
       "\t<tr><td> 6     </td><td> 150000</td></tr>\n",
       "\t<tr><td> 7     </td><td> 200000</td></tr>\n",
       "\t<tr><td> 8     </td><td> 300000</td></tr>\n",
       "\t<tr><td> 9     </td><td> 500000</td></tr>\n",
       "\t<tr><td>10     </td><td>1000000</td></tr>\n",
       "</tbody>\n",
       "</table>\n"
      ],
      "text/latex": [
       "\\begin{tabular}{r|ll}\n",
       " Level & Salary\\\\\n",
       "\\hline\n",
       "\t  1      &   45000\\\\\n",
       "\t  2      &   50000\\\\\n",
       "\t  3      &   60000\\\\\n",
       "\t  4      &   80000\\\\\n",
       "\t  5      &  110000\\\\\n",
       "\t  6      &  150000\\\\\n",
       "\t  7      &  200000\\\\\n",
       "\t  8      &  300000\\\\\n",
       "\t  9      &  500000\\\\\n",
       "\t 10      & 1000000\\\\\n",
       "\\end{tabular}\n"
      ],
      "text/markdown": [
       "\n",
       "| Level | Salary |\n",
       "|---|---|\n",
       "|  1      |   45000 |\n",
       "|  2      |   50000 |\n",
       "|  3      |   60000 |\n",
       "|  4      |   80000 |\n",
       "|  5      |  110000 |\n",
       "|  6      |  150000 |\n",
       "|  7      |  200000 |\n",
       "|  8      |  300000 |\n",
       "|  9      |  500000 |\n",
       "| 10      | 1000000 |\n",
       "\n"
      ],
      "text/plain": [
       "   Level Salary \n",
       "1   1      45000\n",
       "2   2      50000\n",
       "3   3      60000\n",
       "4   4      80000\n",
       "5   5     110000\n",
       "6   6     150000\n",
       "7   7     200000\n",
       "8   8     300000\n",
       "9   9     500000\n",
       "10 10    1000000"
      ]
     },
     "metadata": {},
     "output_type": "display_data"
    }
   ],
   "source": [
    "dataset = read.csv('Position_Salaries.csv')\n",
    "dataset = dataset[2:3]\n",
    "dataset"
   ]
  },
  {
   "cell_type": "markdown",
   "metadata": {},
   "source": [
    "## Fitting Linear Regression to the dataset"
   ]
  },
  {
   "cell_type": "code",
   "execution_count": 4,
   "metadata": {
    "vscode": {
     "languageId": "r"
    }
   },
   "outputs": [
    {
     "data": {
      "text/plain": [
       "\n",
       "Call:\n",
       "lm(formula = Salary ~ ., data = dataset)\n",
       "\n",
       "Coefficients:\n",
       "(Intercept)        Level  \n",
       "    -195333        80879  \n"
      ]
     },
     "metadata": {},
     "output_type": "display_data"
    }
   ],
   "source": [
    "lin_reg = lm(formula=Salary ~ .,\n",
    "             data=dataset)\n",
    "lin_reg"
   ]
  },
  {
   "cell_type": "markdown",
   "metadata": {},
   "source": [
    "## Fitting Polynomial Regression to the dataset"
   ]
  },
  {
   "cell_type": "code",
   "execution_count": 6,
   "metadata": {
    "vscode": {
     "languageId": "r"
    }
   },
   "outputs": [
    {
     "data": {
      "text/html": [
       "<table>\n",
       "<thead><tr><th scope=col>Level</th><th scope=col>Salary</th><th scope=col>Level2</th><th scope=col>Level3</th><th scope=col>Level4</th></tr></thead>\n",
       "<tbody>\n",
       "\t<tr><td> 1     </td><td>  45000</td><td>  1    </td><td>   1   </td><td>    1  </td></tr>\n",
       "\t<tr><td> 2     </td><td>  50000</td><td>  4    </td><td>   8   </td><td>   16  </td></tr>\n",
       "\t<tr><td> 3     </td><td>  60000</td><td>  9    </td><td>  27   </td><td>   81  </td></tr>\n",
       "\t<tr><td> 4     </td><td>  80000</td><td> 16    </td><td>  64   </td><td>  256  </td></tr>\n",
       "\t<tr><td> 5     </td><td> 110000</td><td> 25    </td><td> 125   </td><td>  625  </td></tr>\n",
       "\t<tr><td> 6     </td><td> 150000</td><td> 36    </td><td> 216   </td><td> 1296  </td></tr>\n",
       "\t<tr><td> 7     </td><td> 200000</td><td> 49    </td><td> 343   </td><td> 2401  </td></tr>\n",
       "\t<tr><td> 8     </td><td> 300000</td><td> 64    </td><td> 512   </td><td> 4096  </td></tr>\n",
       "\t<tr><td> 9     </td><td> 500000</td><td> 81    </td><td> 729   </td><td> 6561  </td></tr>\n",
       "\t<tr><td>10     </td><td>1000000</td><td>100    </td><td>1000   </td><td>10000  </td></tr>\n",
       "</tbody>\n",
       "</table>\n"
      ],
      "text/latex": [
       "\\begin{tabular}{r|lllll}\n",
       " Level & Salary & Level2 & Level3 & Level4\\\\\n",
       "\\hline\n",
       "\t  1      &   45000 &   1     &    1    &     1  \\\\\n",
       "\t  2      &   50000 &   4     &    8    &    16  \\\\\n",
       "\t  3      &   60000 &   9     &   27    &    81  \\\\\n",
       "\t  4      &   80000 &  16     &   64    &   256  \\\\\n",
       "\t  5      &  110000 &  25     &  125    &   625  \\\\\n",
       "\t  6      &  150000 &  36     &  216    &  1296  \\\\\n",
       "\t  7      &  200000 &  49     &  343    &  2401  \\\\\n",
       "\t  8      &  300000 &  64     &  512    &  4096  \\\\\n",
       "\t  9      &  500000 &  81     &  729    &  6561  \\\\\n",
       "\t 10      & 1000000 & 100     & 1000    & 10000  \\\\\n",
       "\\end{tabular}\n"
      ],
      "text/markdown": [
       "\n",
       "| Level | Salary | Level2 | Level3 | Level4 |\n",
       "|---|---|---|---|---|\n",
       "|  1      |   45000 |   1     |    1    |     1   |\n",
       "|  2      |   50000 |   4     |    8    |    16   |\n",
       "|  3      |   60000 |   9     |   27    |    81   |\n",
       "|  4      |   80000 |  16     |   64    |   256   |\n",
       "|  5      |  110000 |  25     |  125    |   625   |\n",
       "|  6      |  150000 |  36     |  216    |  1296   |\n",
       "|  7      |  200000 |  49     |  343    |  2401   |\n",
       "|  8      |  300000 |  64     |  512    |  4096   |\n",
       "|  9      |  500000 |  81     |  729    |  6561   |\n",
       "| 10      | 1000000 | 100     | 1000    | 10000   |\n",
       "\n"
      ],
      "text/plain": [
       "   Level Salary  Level2 Level3 Level4\n",
       "1   1      45000   1       1       1 \n",
       "2   2      50000   4       8      16 \n",
       "3   3      60000   9      27      81 \n",
       "4   4      80000  16      64     256 \n",
       "5   5     110000  25     125     625 \n",
       "6   6     150000  36     216    1296 \n",
       "7   7     200000  49     343    2401 \n",
       "8   8     300000  64     512    4096 \n",
       "9   9     500000  81     729    6561 \n",
       "10 10    1000000 100    1000   10000 "
      ]
     },
     "metadata": {},
     "output_type": "display_data"
    }
   ],
   "source": [
    "dataset$Level2 = dataset$Level^2\n",
    "dataset$Level3 = dataset$Level^3\n",
    "dataset$Level4 = dataset$Level^4\n",
    "dataset"
   ]
  },
  {
   "cell_type": "code",
   "execution_count": 7,
   "metadata": {
    "vscode": {
     "languageId": "r"
    }
   },
   "outputs": [
    {
     "data": {
      "text/plain": [
       "\n",
       "Call:\n",
       "lm(formula = Salary ~ ., data = dataset)\n",
       "\n",
       "Coefficients:\n",
       "(Intercept)        Level       Level2       Level3       Level4  \n",
       "   184166.7    -211002.3      94765.4     -15463.3        890.2  \n"
      ]
     },
     "metadata": {},
     "output_type": "display_data"
    }
   ],
   "source": [
    "poly_reg = lm(formula=Salary ~ .,\n",
    "              data=dataset)\n",
    "poly_reg"
   ]
  },
  {
   "cell_type": "markdown",
   "metadata": {},
   "source": [
    "## Visualising the Linear Regression results"
   ]
  },
  {
   "cell_type": "code",
   "execution_count": 10,
   "metadata": {
    "vscode": {
     "languageId": "r"
    }
   },
   "outputs": [
    {
     "data": {
      "image/png": "[encoded data removed]",
      "text/plain": [
       "plot without title"
      ]
     },
     "metadata": {},
     "output_type": "display_data"
    }
   ],
   "source": [
    "library(ggplot2)\n",
    "ggplot() +\n",
    "geom_point(aes(x=dataset$Level, y=dataset$Salary), colour='red') +\n",
    "geom_line(aes(x=dataset$Level, y=predict(lin_reg, newdata=dataset)), colour='blue') +\n",
    "ggtitle('Truth or Bluff (Linear Regression)') +\n",
    "xlab('Level') +\n",
    "ylab('Salary')"
   ]
  },
  {
   "cell_type": "markdown",
   "metadata": {},
   "source": [
    "## Visualising the Polynomial Regression results"
   ]
  },
  {
   "cell_type": "code",
   "execution_count": 13,
   "metadata": {
    "vscode": {
     "languageId": "r"
    }
   },
   "outputs": [
    {
     "data": {
      "image/png": "[encoded data removed]",
      "text/plain": [
       "plot without title"
      ]
     },
     "metadata": {},
     "output_type": "display_data"
    }
   ],
   "source": [
    "library(ggplot2)\n",
    "ggplot() +\n",
    "geom_point(aes(x=dataset$Level, y=dataset$Salary), colour='red') +\n",
    "geom_line(aes(x=dataset$Level, y=predict(poly_reg, newdata=dataset)), colour='blue') +\n",
    "ggtitle('Truth or Bluff (Polynomial Regression)') +\n",
    "xlab('Level') +\n",
    "ylab('Salary')"
   ]
  },
  {
   "cell_type": "markdown",
   "metadata": {},
   "source": [
    "## Visualising the Regression Model results (for higher resolution and smoother curve)"
   ]
  },
  {
   "cell_type": "code",
   "execution_count": 15,
   "metadata": {
    "vscode": {
     "languageId": "r"
    }
   },
   "outputs": [
    {
     "data": {
      "image/png": "[encoded data removed]",
      "text/plain": [
       "plot without title"
      ]
     },
     "metadata": {},
     "output_type": "display_data"
    }
   ],
   "source": [
    "library(ggplot2)\n",
    "x_grid = seq(min(dataset$Level), max(dataset$Level), 0.1)\n",
    "ggplot() +\n",
    "geom_point(aes(x=dataset$Level, y=dataset$Salary), colour='red') +\n",
    "geom_line(aes(x=x_grid, y=predict(poly_reg, newdata=data.frame(Level=x_grid,\n",
    "                                                               Level2=x_grid^2,\n",
    "                                                               Level3=x_grid^3,\n",
    "                                                               Level4=x_grid^4))),\n",
    "          colour='blue') +\n",
    "ggtitle('Truth or Bluff (Polynomial Regression)') +\n",
    "xlab('Level') +\n",
    "ylab('Salary')"
   ]
  },
  {
   "cell_type": "markdown",
   "metadata": {},
   "source": [
    "## Predicting a new result with Linear Regression"
   ]
  },
  {
   "cell_type": "code",
   "execution_count": 16,
   "metadata": {
    "vscode": {
     "languageId": "r"
    }
   },
   "outputs": [
    {
     "data": {
      "text/html": [
       "<strong>1:</strong> 330378.787878788"
      ],
      "text/latex": [
       "\\textbf{1:} 330378.787878788"
      ],
      "text/markdown": [
       "**1:** 330378.787878788"
      ],
      "text/plain": [
       "       1 \n",
       "330378.8 "
      ]
     },
     "metadata": {},
     "output_type": "display_data"
    }
   ],
   "source": [
    "predict(lin_reg, data.frame(Level=6.5))"
   ]
  },
  {
   "cell_type": "markdown",
   "metadata": {},
   "source": [
    "## Predicting a new result with Polynomial Regression"
   ]
  },
  {
   "cell_type": "code",
   "execution_count": 17,
   "metadata": {
    "vscode": {
     "languageId": "r"
    }
   },
   "outputs": [
    {
     "data": {
      "text/html": [
       "<strong>1:</strong> 158862.452651515"
      ],
      "text/latex": [
       "\\textbf{1:} 158862.452651515"
      ],
      "text/markdown": [
       "**1:** 158862.452651515"
      ],
      "text/plain": [
       "       1 \n",
       "158862.5 "
      ]
     },
     "metadata": {},
     "output_type": "display_data"
    }
   ],
   "source": [
    "predict(poly_reg, data.frame(Level=6.5,\n",
    "                             Level2=6.5^2,\n",
    "                             Level3=6.5^3,\n",
    "                             Level4=6.5^4))"
   ]
  }
 ],
 "metadata": {
  "kernelspec": {
   "display_name": "R",
   "language": "R",
   "name": "ir"
  },
  "language_info": {
   "codemirror_mode": "r",
   "file_extension": ".r",
   "mimetype": "text/x-r-source",
   "name": "R",
   "pygments_lexer": "r",
   "version": "3.6.1"
  },
  "orig_nbformat": 4,
  "vscode": {
   "interpreter": {
    "hash": "3cfd106f785ae1e288da74ae733f9b47f8a2699db986927140be0bc196406f4c"
   }
  }
 },
 "nbformat": 4,
 "nbformat_minor": 2
}
