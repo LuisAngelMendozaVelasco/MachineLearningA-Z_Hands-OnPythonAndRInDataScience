{
 "cells": [
  {
   "cell_type": "markdown",
   "metadata": {},
   "source": [
    "# LDA"
   ]
  },
  {
   "cell_type": "markdown",
   "metadata": {},
   "source": [
    "## Importing the dataset"
   ]
  },
  {
   "cell_type": "code",
   "execution_count": 1,
   "metadata": {
    "vscode": {
     "languageId": "r"
    }
   },
   "outputs": [
    {
     "data": {
      "text/html": [
       "<table>\n",
       "<thead><tr><th scope=col>Alcohol</th><th scope=col>Malic_Acid</th><th scope=col>Ash</th><th scope=col>Ash_Alcanity</th><th scope=col>Magnesium</th><th scope=col>Total_Phenols</th><th scope=col>Flavanoids</th><th scope=col>Nonflavanoid_Phenols</th><th scope=col>Proanthocyanins</th><th scope=col>Color_Intensity</th><th scope=col>Hue</th><th scope=col>OD280</th><th scope=col>Proline</th><th scope=col>Customer_Segment</th></tr></thead>\n",
       "<tbody>\n",
       "\t<tr><td>14.23</td><td>1.71 </td><td>2.43 </td><td>15.6 </td><td>127  </td><td>2.80 </td><td>3.06 </td><td>0.28 </td><td>2.29 </td><td>5.64 </td><td>1.04 </td><td>3.92 </td><td>1065 </td><td>1    </td></tr>\n",
       "\t<tr><td>13.20</td><td>1.78 </td><td>2.14 </td><td>11.2 </td><td>100  </td><td>2.65 </td><td>2.76 </td><td>0.26 </td><td>1.28 </td><td>4.38 </td><td>1.05 </td><td>3.40 </td><td>1050 </td><td>1    </td></tr>\n",
       "\t<tr><td>13.16</td><td>2.36 </td><td>2.67 </td><td>18.6 </td><td>101  </td><td>2.80 </td><td>3.24 </td><td>0.30 </td><td>2.81 </td><td>5.68 </td><td>1.03 </td><td>3.17 </td><td>1185 </td><td>1    </td></tr>\n",
       "\t<tr><td>14.37</td><td>1.95 </td><td>2.50 </td><td>16.8 </td><td>113  </td><td>3.85 </td><td>3.49 </td><td>0.24 </td><td>2.18 </td><td>7.80 </td><td>0.86 </td><td>3.45 </td><td>1480 </td><td>1    </td></tr>\n",
       "\t<tr><td>13.24</td><td>2.59 </td><td>2.87 </td><td>21.0 </td><td>118  </td><td>2.80 </td><td>2.69 </td><td>0.39 </td><td>1.82 </td><td>4.32 </td><td>1.04 </td><td>2.93 </td><td> 735 </td><td>1    </td></tr>\n",
       "\t<tr><td>14.20</td><td>1.76 </td><td>2.45 </td><td>15.2 </td><td>112  </td><td>3.27 </td><td>3.39 </td><td>0.34 </td><td>1.97 </td><td>6.75 </td><td>1.05 </td><td>2.85 </td><td>1450 </td><td>1    </td></tr>\n",
       "</tbody>\n",
       "</table>\n"
      ],
      "text/latex": [
       "\\begin{tabular}{r|llllllllllllll}\n",
       " Alcohol & Malic\\_Acid & Ash & Ash\\_Alcanity & Magnesium & Total\\_Phenols & Flavanoids & Nonflavanoid\\_Phenols & Proanthocyanins & Color\\_Intensity & Hue & OD280 & Proline & Customer\\_Segment\\\\\n",
       "\\hline\n",
       "\t 14.23 & 1.71  & 2.43  & 15.6  & 127   & 2.80  & 3.06  & 0.28  & 2.29  & 5.64  & 1.04  & 3.92  & 1065  & 1    \\\\\n",
       "\t 13.20 & 1.78  & 2.14  & 11.2  & 100   & 2.65  & 2.76  & 0.26  & 1.28  & 4.38  & 1.05  & 3.40  & 1050  & 1    \\\\\n",
       "\t 13.16 & 2.36  & 2.67  & 18.6  & 101   & 2.80  & 3.24  & 0.30  & 2.81  & 5.68  & 1.03  & 3.17  & 1185  & 1    \\\\\n",
       "\t 14.37 & 1.95  & 2.50  & 16.8  & 113   & 3.85  & 3.49  & 0.24  & 2.18  & 7.80  & 0.86  & 3.45  & 1480  & 1    \\\\\n",
       "\t 13.24 & 2.59  & 2.87  & 21.0  & 118   & 2.80  & 2.69  & 0.39  & 1.82  & 4.32  & 1.04  & 2.93  &  735  & 1    \\\\\n",
       "\t 14.20 & 1.76  & 2.45  & 15.2  & 112   & 3.27  & 3.39  & 0.34  & 1.97  & 6.75  & 1.05  & 2.85  & 1450  & 1    \\\\\n",
       "\\end{tabular}\n"
      ],
      "text/markdown": [
       "\n",
       "| Alcohol | Malic_Acid | Ash | Ash_Alcanity | Magnesium | Total_Phenols | Flavanoids | Nonflavanoid_Phenols | Proanthocyanins | Color_Intensity | Hue | OD280 | Proline | Customer_Segment |\n",
       "|---|---|---|---|---|---|---|---|---|---|---|---|---|---|\n",
       "| 14.23 | 1.71  | 2.43  | 15.6  | 127   | 2.80  | 3.06  | 0.28  | 2.29  | 5.64  | 1.04  | 3.92  | 1065  | 1     |\n",
       "| 13.20 | 1.78  | 2.14  | 11.2  | 100   | 2.65  | 2.76  | 0.26  | 1.28  | 4.38  | 1.05  | 3.40  | 1050  | 1     |\n",
       "| 13.16 | 2.36  | 2.67  | 18.6  | 101   | 2.80  | 3.24  | 0.30  | 2.81  | 5.68  | 1.03  | 3.17  | 1185  | 1     |\n",
       "| 14.37 | 1.95  | 2.50  | 16.8  | 113   | 3.85  | 3.49  | 0.24  | 2.18  | 7.80  | 0.86  | 3.45  | 1480  | 1     |\n",
       "| 13.24 | 2.59  | 2.87  | 21.0  | 118   | 2.80  | 2.69  | 0.39  | 1.82  | 4.32  | 1.04  | 2.93  |  735  | 1     |\n",
       "| 14.20 | 1.76  | 2.45  | 15.2  | 112   | 3.27  | 3.39  | 0.34  | 1.97  | 6.75  | 1.05  | 2.85  | 1450  | 1     |\n",
       "\n"
      ],
      "text/plain": [
       "  Alcohol Malic_Acid Ash  Ash_Alcanity Magnesium Total_Phenols Flavanoids\n",
       "1 14.23   1.71       2.43 15.6         127       2.80          3.06      \n",
       "2 13.20   1.78       2.14 11.2         100       2.65          2.76      \n",
       "3 13.16   2.36       2.67 18.6         101       2.80          3.24      \n",
       "4 14.37   1.95       2.50 16.8         113       3.85          3.49      \n",
       "5 13.24   2.59       2.87 21.0         118       2.80          2.69      \n",
       "6 14.20   1.76       2.45 15.2         112       3.27          3.39      \n",
       "  Nonflavanoid_Phenols Proanthocyanins Color_Intensity Hue  OD280 Proline\n",
       "1 0.28                 2.29            5.64            1.04 3.92  1065   \n",
       "2 0.26                 1.28            4.38            1.05 3.40  1050   \n",
       "3 0.30                 2.81            5.68            1.03 3.17  1185   \n",
       "4 0.24                 2.18            7.80            0.86 3.45  1480   \n",
       "5 0.39                 1.82            4.32            1.04 2.93   735   \n",
       "6 0.34                 1.97            6.75            1.05 2.85  1450   \n",
       "  Customer_Segment\n",
       "1 1               \n",
       "2 1               \n",
       "3 1               \n",
       "4 1               \n",
       "5 1               \n",
       "6 1               "
      ]
     },
     "metadata": {},
     "output_type": "display_data"
    }
   ],
   "source": [
    "dataset = read.csv('Wine.csv')\n",
    "head(dataset)"
   ]
  },
  {
   "cell_type": "markdown",
   "metadata": {},
   "source": [
    "## Splitting the dataset into the Training set and Test set"
   ]
  },
  {
   "cell_type": "code",
   "execution_count": 2,
   "metadata": {
    "vscode": {
     "languageId": "r"
    }
   },
   "outputs": [
    {
     "name": "stderr",
     "output_type": "stream",
     "text": [
      "Warning message:\n",
      "\"package 'caTools' was built under R version 3.6.3\""
     ]
    }
   ],
   "source": [
    "library(caTools)\n",
    "set.seed(123)\n",
    "\n",
    "split = sample.split(dataset$Customer_Segment, SplitRatio=0.8)\n",
    "training_set = subset(dataset, split == TRUE)\n",
    "test_set = subset(dataset, split == FALSE)"
   ]
  },
  {
   "cell_type": "markdown",
   "metadata": {},
   "source": [
    "## Feature Scaling"
   ]
  },
  {
   "cell_type": "code",
   "execution_count": 4,
   "metadata": {
    "vscode": {
     "languageId": "r"
    }
   },
   "outputs": [],
   "source": [
    "training_set[-14] = scale(training_set[-14])\n",
    "test_set[-14] = scale(test_set[-14])"
   ]
  },
  {
   "cell_type": "code",
   "execution_count": 5,
   "metadata": {
    "vscode": {
     "languageId": "r"
    }
   },
   "outputs": [
    {
     "data": {
      "text/html": [
       "<table>\n",
       "<thead><tr><th></th><th scope=col>Alcohol</th><th scope=col>Malic_Acid</th><th scope=col>Ash</th><th scope=col>Ash_Alcanity</th><th scope=col>Magnesium</th><th scope=col>Total_Phenols</th><th scope=col>Flavanoids</th><th scope=col>Nonflavanoid_Phenols</th><th scope=col>Proanthocyanins</th><th scope=col>Color_Intensity</th><th scope=col>Hue</th><th scope=col>OD280</th><th scope=col>Proline</th><th scope=col>Customer_Segment</th></tr></thead>\n",
       "<tbody>\n",
       "\t<tr><th scope=row>1</th><td>1.5207582  </td><td>-0.55639963</td><td> 0.2357917 </td><td>-1.0905953 </td><td> 1.88706849</td><td>0.8113772  </td><td>1.0287334  </td><td>-0.6783993 </td><td> 1.2020748 </td><td> 0.26175076</td><td>0.3765715  </td><td>1.8639715  </td><td>1.066096   </td><td>1          </td></tr>\n",
       "\t<tr><th scope=row>2</th><td>0.2326757  </td><td>-0.49235827</td><td>-0.8060433 </td><td>-2.3498893 </td><td> 0.03193501</td><td>0.5690562  </td><td>0.7307323  </td><td>-0.8411235 </td><td>-0.5783814 </td><td>-0.27972739</td><td>0.4197159  </td><td>1.1205576  </td><td>1.016522   </td><td>1          </td></tr>\n",
       "\t<tr><th scope=row>3</th><td>0.1826530  </td><td> 0.03827019</td><td> 1.0980000 </td><td>-0.2319858 </td><td> 0.10064365</td><td>0.8113772  </td><td>1.2075341  </td><td>-0.5156752 </td><td> 2.1187453 </td><td> 0.27894054</td><td>0.3334272  </td><td>0.7917399  </td><td>1.462687   </td><td>1          </td></tr>\n",
       "\t<tr><th scope=row>6</th><td>1.4832413  </td><td>-0.51065580</td><td> 0.3076424 </td><td>-1.2050766 </td><td> 0.85643878</td><td>1.5706496  </td><td>1.3565347  </td><td>-0.1902268 </td><td> 0.6379699 </td><td> 0.73876722</td><td>0.4197159  </td><td>0.3342544  </td><td>2.338493   </td><td>1          </td></tr>\n",
       "\t<tr><th scope=row>7</th><td>1.7208487  </td><td>-0.41001937</td><td> 0.3076424 </td><td>-1.3767985 </td><td>-0.24289959</td><td>0.3267352  </td><td>0.4923314  </td><td>-0.5156752 </td><td> 0.6555982 </td><td> 0.09415038</td><td>0.2902828  </td><td>1.3778932  </td><td>1.809705   </td><td>1          </td></tr>\n",
       "\t<tr><th scope=row>9</th><td>2.2710976  </td><td>-0.62044100</td><td>-0.6982673 </td><td>-1.5485204 </td><td>-0.17419094</td><td>0.8113772  </td><td>0.9492665  </td><td>-0.5970372 </td><td> 0.6555982 </td><td> 0.07266315</td><td>0.5491491  </td><td>0.3342544  </td><td>0.999997   </td><td>1          </td></tr>\n",
       "</tbody>\n",
       "</table>\n"
      ],
      "text/latex": [
       "\\begin{tabular}{r|llllllllllllll}\n",
       "  & Alcohol & Malic\\_Acid & Ash & Ash\\_Alcanity & Magnesium & Total\\_Phenols & Flavanoids & Nonflavanoid\\_Phenols & Proanthocyanins & Color\\_Intensity & Hue & OD280 & Proline & Customer\\_Segment\\\\\n",
       "\\hline\n",
       "\t1 & 1.5207582   & -0.55639963 &  0.2357917  & -1.0905953  &  1.88706849 & 0.8113772   & 1.0287334   & -0.6783993  &  1.2020748  &  0.26175076 & 0.3765715   & 1.8639715   & 1.066096    & 1          \\\\\n",
       "\t2 & 0.2326757   & -0.49235827 & -0.8060433  & -2.3498893  &  0.03193501 & 0.5690562   & 0.7307323   & -0.8411235  & -0.5783814  & -0.27972739 & 0.4197159   & 1.1205576   & 1.016522    & 1          \\\\\n",
       "\t3 & 0.1826530   &  0.03827019 &  1.0980000  & -0.2319858  &  0.10064365 & 0.8113772   & 1.2075341   & -0.5156752  &  2.1187453  &  0.27894054 & 0.3334272   & 0.7917399   & 1.462687    & 1          \\\\\n",
       "\t6 & 1.4832413   & -0.51065580 &  0.3076424  & -1.2050766  &  0.85643878 & 1.5706496   & 1.3565347   & -0.1902268  &  0.6379699  &  0.73876722 & 0.4197159   & 0.3342544   & 2.338493    & 1          \\\\\n",
       "\t7 & 1.7208487   & -0.41001937 &  0.3076424  & -1.3767985  & -0.24289959 & 0.3267352   & 0.4923314   & -0.5156752  &  0.6555982  &  0.09415038 & 0.2902828   & 1.3778932   & 1.809705    & 1          \\\\\n",
       "\t9 & 2.2710976   & -0.62044100 & -0.6982673  & -1.5485204  & -0.17419094 & 0.8113772   & 0.9492665   & -0.5970372  &  0.6555982  &  0.07266315 & 0.5491491   & 0.3342544   & 0.999997    & 1          \\\\\n",
       "\\end{tabular}\n"
      ],
      "text/markdown": [
       "\n",
       "| <!--/--> | Alcohol | Malic_Acid | Ash | Ash_Alcanity | Magnesium | Total_Phenols | Flavanoids | Nonflavanoid_Phenols | Proanthocyanins | Color_Intensity | Hue | OD280 | Proline | Customer_Segment |\n",
       "|---|---|---|---|---|---|---|---|---|---|---|---|---|---|---|\n",
       "| 1 | 1.5207582   | -0.55639963 |  0.2357917  | -1.0905953  |  1.88706849 | 0.8113772   | 1.0287334   | -0.6783993  |  1.2020748  |  0.26175076 | 0.3765715   | 1.8639715   | 1.066096    | 1           |\n",
       "| 2 | 0.2326757   | -0.49235827 | -0.8060433  | -2.3498893  |  0.03193501 | 0.5690562   | 0.7307323   | -0.8411235  | -0.5783814  | -0.27972739 | 0.4197159   | 1.1205576   | 1.016522    | 1           |\n",
       "| 3 | 0.1826530   |  0.03827019 |  1.0980000  | -0.2319858  |  0.10064365 | 0.8113772   | 1.2075341   | -0.5156752  |  2.1187453  |  0.27894054 | 0.3334272   | 0.7917399   | 1.462687    | 1           |\n",
       "| 6 | 1.4832413   | -0.51065580 |  0.3076424  | -1.2050766  |  0.85643878 | 1.5706496   | 1.3565347   | -0.1902268  |  0.6379699  |  0.73876722 | 0.4197159   | 0.3342544   | 2.338493    | 1           |\n",
       "| 7 | 1.7208487   | -0.41001937 |  0.3076424  | -1.3767985  | -0.24289959 | 0.3267352   | 0.4923314   | -0.5156752  |  0.6555982  |  0.09415038 | 0.2902828   | 1.3778932   | 1.809705    | 1           |\n",
       "| 9 | 2.2710976   | -0.62044100 | -0.6982673  | -1.5485204  | -0.17419094 | 0.8113772   | 0.9492665   | -0.5970372  |  0.6555982  |  0.07266315 | 0.5491491   | 0.3342544   | 0.999997    | 1           |\n",
       "\n"
      ],
      "text/plain": [
       "  Alcohol   Malic_Acid  Ash        Ash_Alcanity Magnesium   Total_Phenols\n",
       "1 1.5207582 -0.55639963  0.2357917 -1.0905953    1.88706849 0.8113772    \n",
       "2 0.2326757 -0.49235827 -0.8060433 -2.3498893    0.03193501 0.5690562    \n",
       "3 0.1826530  0.03827019  1.0980000 -0.2319858    0.10064365 0.8113772    \n",
       "6 1.4832413 -0.51065580  0.3076424 -1.2050766    0.85643878 1.5706496    \n",
       "7 1.7208487 -0.41001937  0.3076424 -1.3767985   -0.24289959 0.3267352    \n",
       "9 2.2710976 -0.62044100 -0.6982673 -1.5485204   -0.17419094 0.8113772    \n",
       "  Flavanoids Nonflavanoid_Phenols Proanthocyanins Color_Intensity Hue      \n",
       "1 1.0287334  -0.6783993            1.2020748       0.26175076     0.3765715\n",
       "2 0.7307323  -0.8411235           -0.5783814      -0.27972739     0.4197159\n",
       "3 1.2075341  -0.5156752            2.1187453       0.27894054     0.3334272\n",
       "6 1.3565347  -0.1902268            0.6379699       0.73876722     0.4197159\n",
       "7 0.4923314  -0.5156752            0.6555982       0.09415038     0.2902828\n",
       "9 0.9492665  -0.5970372            0.6555982       0.07266315     0.5491491\n",
       "  OD280     Proline  Customer_Segment\n",
       "1 1.8639715 1.066096 1               \n",
       "2 1.1205576 1.016522 1               \n",
       "3 0.7917399 1.462687 1               \n",
       "6 0.3342544 2.338493 1               \n",
       "7 1.3778932 1.809705 1               \n",
       "9 0.3342544 0.999997 1               "
      ]
     },
     "metadata": {},
     "output_type": "display_data"
    }
   ],
   "source": [
    "head(training_set)"
   ]
  },
  {
   "cell_type": "markdown",
   "metadata": {},
   "source": [
    "## Applying LDA"
   ]
  },
  {
   "cell_type": "code",
   "execution_count": 6,
   "metadata": {
    "vscode": {
     "languageId": "r"
    }
   },
   "outputs": [],
   "source": [
    "library(MASS)\n",
    "\n",
    "lda = lda(formula = Customer_Segment ~ ., data=training_set)\n",
    "training_set = as.data.frame(predict(lda, training_set))\n",
    "training_set = training_set[c(5, 6, 1)]\n",
    "test_set = as.data.frame(predict(lda, test_set))\n",
    "test_set = test_set[c(5, 6, 1)]"
   ]
  },
  {
   "cell_type": "code",
   "execution_count": 7,
   "metadata": {
    "vscode": {
     "languageId": "r"
    }
   },
   "outputs": [
    {
     "data": {
      "text/html": [
       "<table>\n",
       "<thead><tr><th></th><th scope=col>x.LD1</th><th scope=col>x.LD2</th><th scope=col>class</th></tr></thead>\n",
       "<tbody>\n",
       "\t<tr><th scope=row>1</th><td>-4.656187</td><td>2.081444 </td><td>1        </td></tr>\n",
       "\t<tr><th scope=row>2</th><td>-4.336729</td><td>1.267238 </td><td>1        </td></tr>\n",
       "\t<tr><th scope=row>3</th><td>-3.292202</td><td>1.167575 </td><td>1        </td></tr>\n",
       "\t<tr><th scope=row>6</th><td>-4.515987</td><td>3.265418 </td><td>1        </td></tr>\n",
       "\t<tr><th scope=row>7</th><td>-4.627289</td><td>3.369602 </td><td>1        </td></tr>\n",
       "\t<tr><th scope=row>9</th><td>-3.936469</td><td>1.967177 </td><td>1        </td></tr>\n",
       "</tbody>\n",
       "</table>\n"
      ],
      "text/latex": [
       "\\begin{tabular}{r|lll}\n",
       "  & x.LD1 & x.LD2 & class\\\\\n",
       "\\hline\n",
       "\t1 & -4.656187 & 2.081444  & 1        \\\\\n",
       "\t2 & -4.336729 & 1.267238  & 1        \\\\\n",
       "\t3 & -3.292202 & 1.167575  & 1        \\\\\n",
       "\t6 & -4.515987 & 3.265418  & 1        \\\\\n",
       "\t7 & -4.627289 & 3.369602  & 1        \\\\\n",
       "\t9 & -3.936469 & 1.967177  & 1        \\\\\n",
       "\\end{tabular}\n"
      ],
      "text/markdown": [
       "\n",
       "| <!--/--> | x.LD1 | x.LD2 | class |\n",
       "|---|---|---|---|\n",
       "| 1 | -4.656187 | 2.081444  | 1         |\n",
       "| 2 | -4.336729 | 1.267238  | 1         |\n",
       "| 3 | -3.292202 | 1.167575  | 1         |\n",
       "| 6 | -4.515987 | 3.265418  | 1         |\n",
       "| 7 | -4.627289 | 3.369602  | 1         |\n",
       "| 9 | -3.936469 | 1.967177  | 1         |\n",
       "\n"
      ],
      "text/plain": [
       "  x.LD1     x.LD2    class\n",
       "1 -4.656187 2.081444 1    \n",
       "2 -4.336729 1.267238 1    \n",
       "3 -3.292202 1.167575 1    \n",
       "6 -4.515987 3.265418 1    \n",
       "7 -4.627289 3.369602 1    \n",
       "9 -3.936469 1.967177 1    "
      ]
     },
     "metadata": {},
     "output_type": "display_data"
    }
   ],
   "source": [
    "head(training_set)"
   ]
  },
  {
   "cell_type": "markdown",
   "metadata": {},
   "source": [
    "## Fitting SVM to the Training set"
   ]
  },
  {
   "cell_type": "code",
   "execution_count": 8,
   "metadata": {
    "vscode": {
     "languageId": "r"
    }
   },
   "outputs": [
    {
     "name": "stderr",
     "output_type": "stream",
     "text": [
      "Warning message:\n",
      "\"package 'e1071' was built under R version 3.6.3\""
     ]
    },
    {
     "data": {
      "text/plain": [
       "\n",
       "Call:\n",
       "svm(formula = class ~ ., data = training_set, type = \"C-classification\", \n",
       "    kernel = \"linear\")\n",
       "\n",
       "\n",
       "Parameters:\n",
       "   SVM-Type:  C-classification \n",
       " SVM-Kernel:  linear \n",
       "       cost:  1 \n",
       "\n",
       "Number of Support Vectors:  19\n"
      ]
     },
     "metadata": {},
     "output_type": "display_data"
    }
   ],
   "source": [
    "library(e1071)\n",
    "\n",
    "classifier = svm(formula=class ~ .,\n",
    "                 data=training_set,\n",
    "                 type='C-classification',\n",
    "                 kernel='linear')\n",
    "classifier"
   ]
  },
  {
   "cell_type": "markdown",
   "metadata": {},
   "source": [
    "## Predicting the Test set results"
   ]
  },
  {
   "cell_type": "code",
   "execution_count": 10,
   "metadata": {
    "vscode": {
     "languageId": "r"
    }
   },
   "outputs": [
    {
     "data": {
      "text/html": [
       "<table>\n",
       "<thead><tr><th></th><th scope=col>class</th><th scope=col>y_pred</th></tr></thead>\n",
       "<tbody>\n",
       "\t<tr><th scope=row>4</th><td>1</td><td>1</td></tr>\n",
       "\t<tr><th scope=row>5</th><td>1</td><td>1</td></tr>\n",
       "\t<tr><th scope=row>8</th><td>1</td><td>1</td></tr>\n",
       "\t<tr><th scope=row>11</th><td>1</td><td>1</td></tr>\n",
       "\t<tr><th scope=row>16</th><td>1</td><td>1</td></tr>\n",
       "\t<tr><th scope=row>20</th><td>1</td><td>1</td></tr>\n",
       "</tbody>\n",
       "</table>\n"
      ],
      "text/latex": [
       "\\begin{tabular}{r|ll}\n",
       "  & class & y\\_pred\\\\\n",
       "\\hline\n",
       "\t4 & 1 & 1\\\\\n",
       "\t5 & 1 & 1\\\\\n",
       "\t8 & 1 & 1\\\\\n",
       "\t11 & 1 & 1\\\\\n",
       "\t16 & 1 & 1\\\\\n",
       "\t20 & 1 & 1\\\\\n",
       "\\end{tabular}\n"
      ],
      "text/markdown": [
       "\n",
       "| <!--/--> | class | y_pred |\n",
       "|---|---|---|\n",
       "| 4 | 1 | 1 |\n",
       "| 5 | 1 | 1 |\n",
       "| 8 | 1 | 1 |\n",
       "| 11 | 1 | 1 |\n",
       "| 16 | 1 | 1 |\n",
       "| 20 | 1 | 1 |\n",
       "\n"
      ],
      "text/plain": [
       "   class y_pred\n",
       "4  1     1     \n",
       "5  1     1     \n",
       "8  1     1     \n",
       "11 1     1     \n",
       "16 1     1     \n",
       "20 1     1     "
      ]
     },
     "metadata": {},
     "output_type": "display_data"
    }
   ],
   "source": [
    "y_pred = predict(classifier, newdata=test_set[-3])\n",
    "head(data.frame(y_test=test_set[3], y_pred=y_pred))"
   ]
  },
  {
   "cell_type": "markdown",
   "metadata": {},
   "source": [
    "## Making the Confusion Matrix"
   ]
  },
  {
   "cell_type": "code",
   "execution_count": 11,
   "metadata": {
    "vscode": {
     "languageId": "r"
    }
   },
   "outputs": [
    {
     "data": {
      "text/plain": [
       "   y_pred\n",
       "     1  2  3\n",
       "  1 12  0  0\n",
       "  2  1 13  0\n",
       "  3  0  0 10"
      ]
     },
     "metadata": {},
     "output_type": "display_data"
    }
   ],
   "source": [
    "cm = table(test_set[, 3], y_pred)\n",
    "cm"
   ]
  },
  {
   "cell_type": "markdown",
   "metadata": {},
   "source": [
    "## Visualising the Training set results"
   ]
  },
  {
   "cell_type": "code",
   "execution_count": 13,
   "metadata": {
    "vscode": {
     "languageId": "r"
    }
   },
   "outputs": [
    {
     "data": {
      "image/png": "[encoded data removed]",
      "text/plain": [
       "Plot with title \"SVM (Training set)\""
      ]
     },
     "metadata": {},
     "output_type": "display_data"
    }
   ],
   "source": [
    "set = training_set\n",
    "X1 = seq(min(set[, 1]) - 1, max(set[, 1]) + 1, by=0.01)\n",
    "X2 = seq(min(set[, 2]) - 1, max(set[, 2]) + 1, by=0.01)\n",
    "grid_set = expand.grid(X1, X2)\n",
    "colnames(grid_set) = c('x.LD1', 'x.LD2')\n",
    "y_grid=predict(classifier, newdata=grid_set)\n",
    "\n",
    "plot(set[, -3],\n",
    "     main='SVM (Training set)',\n",
    "     xlab='LD1', ylab='LD2',\n",
    "     xlim=range(X1), ylim=range(X2))\n",
    "contour(X1, X2, matrix(as.numeric(y_grid), length(X1), length(X2)), add=TRUE)\n",
    "points(grid_set, pch='.', col=ifelse(y_grid == 2, 'deepskyblue', ifelse(y_grid == 1, 'springgreen3', 'tomato')))\n",
    "points(set, pch=21, bg=ifelse(set[, 3] == 2, 'blue3', ifelse(set[, 3] == 1, 'green4', 'red3')))"
   ]
  },
  {
   "cell_type": "markdown",
   "metadata": {},
   "source": [
    "## Visualising the Test set results"
   ]
  },
  {
   "cell_type": "code",
   "execution_count": 14,
   "metadata": {
    "vscode": {
     "languageId": "r"
    }
   },
   "outputs": [
    {
     "data": {
      "image/png": "[encoded data removed]",
      "text/plain": [
       "Plot with title \"SVM (Test set)\""
      ]
     },
     "metadata": {},
     "output_type": "display_data"
    }
   ],
   "source": [
    "set = test_set\n",
    "X1 = seq(min(set[, 1]) - 1, max(set[, 1]) + 1, by=0.01)\n",
    "X2 = seq(min(set[, 2]) - 1, max(set[, 2]) + 1, by=0.01)\n",
    "grid_set = expand.grid(X1, X2)\n",
    "colnames(grid_set) = c('x.LD1', 'x.LD2')\n",
    "y_grid=predict(classifier, newdata=grid_set)\n",
    "\n",
    "plot(set[, -3], main='SVM (Test set)',\n",
    "     xlab='LD1', ylab='LD2',\n",
    "     xlim=range(X1), ylim=range(X2))\n",
    "contour(X1, X2, matrix(as.numeric(y_grid), length(X1), length(X2)), add=TRUE)\n",
    "points(grid_set, pch='.', col=ifelse(y_grid == 2, 'deepskyblue', ifelse(y_grid == 1, 'springgreen3', 'tomato')))\n",
    "points(set, pch=21, bg=ifelse(set[, 3] == 2, 'blue3', ifelse(set[, 3] == 1, 'green4', 'red3')))"
   ]
  }
 ],
 "metadata": {
  "kernelspec": {
   "display_name": "R",
   "language": "R",
   "name": "ir"
  },
  "language_info": {
   "codemirror_mode": "r",
   "file_extension": ".r",
   "mimetype": "text/x-r-source",
   "name": "R",
   "pygments_lexer": "r",
   "version": "3.6.1"
  },
  "orig_nbformat": 4,
  "vscode": {
   "interpreter": {
    "hash": "3cfd106f785ae1e288da74ae733f9b47f8a2699db986927140be0bc196406f4c"
   }
  }
 },
 "nbformat": 4,
 "nbformat_minor": 2
}
