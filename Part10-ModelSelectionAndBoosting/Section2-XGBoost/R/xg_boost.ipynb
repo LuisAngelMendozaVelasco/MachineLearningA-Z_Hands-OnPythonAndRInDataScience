{
 "cells": [
  {
   "cell_type": "markdown",
   "metadata": {},
   "source": [
    "# XGBoost"
   ]
  },
  {
   "cell_type": "markdown",
   "metadata": {},
   "source": [
    "## Importing the dataset"
   ]
  },
  {
   "cell_type": "code",
   "execution_count": 1,
   "metadata": {
    "vscode": {
     "languageId": "r"
    }
   },
   "outputs": [
    {
     "data": {
      "text/html": [
       "<table>\n",
       "<thead><tr><th scope=col>CreditScore</th><th scope=col>Geography</th><th scope=col>Gender</th><th scope=col>Age</th><th scope=col>Tenure</th><th scope=col>Balance</th><th scope=col>NumOfProducts</th><th scope=col>HasCrCard</th><th scope=col>IsActiveMember</th><th scope=col>EstimatedSalary</th><th scope=col>Exited</th></tr></thead>\n",
       "<tbody>\n",
       "\t<tr><td>619      </td><td>France   </td><td>Female   </td><td>42       </td><td>2        </td><td>     0.00</td><td>1        </td><td>1        </td><td>1        </td><td>101348.88</td><td>1        </td></tr>\n",
       "\t<tr><td>608      </td><td>Spain    </td><td>Female   </td><td>41       </td><td>1        </td><td> 83807.86</td><td>1        </td><td>0        </td><td>1        </td><td>112542.58</td><td>0        </td></tr>\n",
       "\t<tr><td>502      </td><td>France   </td><td>Female   </td><td>42       </td><td>8        </td><td>159660.80</td><td>3        </td><td>1        </td><td>0        </td><td>113931.57</td><td>1        </td></tr>\n",
       "\t<tr><td>699      </td><td>France   </td><td>Female   </td><td>39       </td><td>1        </td><td>     0.00</td><td>2        </td><td>0        </td><td>0        </td><td> 93826.63</td><td>0        </td></tr>\n",
       "\t<tr><td>850      </td><td>Spain    </td><td>Female   </td><td>43       </td><td>2        </td><td>125510.82</td><td>1        </td><td>1        </td><td>1        </td><td> 79084.10</td><td>0        </td></tr>\n",
       "\t<tr><td>645      </td><td>Spain    </td><td>Male     </td><td>44       </td><td>8        </td><td>113755.78</td><td>2        </td><td>1        </td><td>0        </td><td>149756.71</td><td>1        </td></tr>\n",
       "</tbody>\n",
       "</table>\n"
      ],
      "text/latex": [
       "\\begin{tabular}{r|lllllllllll}\n",
       " CreditScore & Geography & Gender & Age & Tenure & Balance & NumOfProducts & HasCrCard & IsActiveMember & EstimatedSalary & Exited\\\\\n",
       "\\hline\n",
       "\t 619       & France    & Female    & 42        & 2         &      0.00 & 1         & 1         & 1         & 101348.88 & 1        \\\\\n",
       "\t 608       & Spain     & Female    & 41        & 1         &  83807.86 & 1         & 0         & 1         & 112542.58 & 0        \\\\\n",
       "\t 502       & France    & Female    & 42        & 8         & 159660.80 & 3         & 1         & 0         & 113931.57 & 1        \\\\\n",
       "\t 699       & France    & Female    & 39        & 1         &      0.00 & 2         & 0         & 0         &  93826.63 & 0        \\\\\n",
       "\t 850       & Spain     & Female    & 43        & 2         & 125510.82 & 1         & 1         & 1         &  79084.10 & 0        \\\\\n",
       "\t 645       & Spain     & Male      & 44        & 8         & 113755.78 & 2         & 1         & 0         & 149756.71 & 1        \\\\\n",
       "\\end{tabular}\n"
      ],
      "text/markdown": [
       "\n",
       "| CreditScore | Geography | Gender | Age | Tenure | Balance | NumOfProducts | HasCrCard | IsActiveMember | EstimatedSalary | Exited |\n",
       "|---|---|---|---|---|---|---|---|---|---|---|\n",
       "| 619       | France    | Female    | 42        | 2         |      0.00 | 1         | 1         | 1         | 101348.88 | 1         |\n",
       "| 608       | Spain     | Female    | 41        | 1         |  83807.86 | 1         | 0         | 1         | 112542.58 | 0         |\n",
       "| 502       | France    | Female    | 42        | 8         | 159660.80 | 3         | 1         | 0         | 113931.57 | 1         |\n",
       "| 699       | France    | Female    | 39        | 1         |      0.00 | 2         | 0         | 0         |  93826.63 | 0         |\n",
       "| 850       | Spain     | Female    | 43        | 2         | 125510.82 | 1         | 1         | 1         |  79084.10 | 0         |\n",
       "| 645       | Spain     | Male      | 44        | 8         | 113755.78 | 2         | 1         | 0         | 149756.71 | 1         |\n",
       "\n"
      ],
      "text/plain": [
       "  CreditScore Geography Gender Age Tenure Balance   NumOfProducts HasCrCard\n",
       "1 619         France    Female 42  2           0.00 1             1        \n",
       "2 608         Spain     Female 41  1       83807.86 1             0        \n",
       "3 502         France    Female 42  8      159660.80 3             1        \n",
       "4 699         France    Female 39  1           0.00 2             0        \n",
       "5 850         Spain     Female 43  2      125510.82 1             1        \n",
       "6 645         Spain     Male   44  8      113755.78 2             1        \n",
       "  IsActiveMember EstimatedSalary Exited\n",
       "1 1              101348.88       1     \n",
       "2 1              112542.58       0     \n",
       "3 0              113931.57       1     \n",
       "4 0               93826.63       0     \n",
       "5 1               79084.10       0     \n",
       "6 0              149756.71       1     "
      ]
     },
     "metadata": {},
     "output_type": "display_data"
    }
   ],
   "source": [
    "dataset = read.csv('Churn_Modelling.csv')\n",
    "dataset = dataset[4:14]\n",
    "head(dataset)"
   ]
  },
  {
   "cell_type": "markdown",
   "metadata": {},
   "source": [
    "## Encoding the categorical variables as factors"
   ]
  },
  {
   "cell_type": "code",
   "execution_count": 2,
   "metadata": {
    "vscode": {
     "languageId": "r"
    }
   },
   "outputs": [],
   "source": [
    "dataset$Geography = as.numeric(factor(dataset$Geography,\n",
    "                                      levels=c('France', 'Spain', 'Germany'),\n",
    "                                      labels=c(1, 2, 3)))\n",
    "dataset$Gender = as.numeric(factor(dataset$Gender,\n",
    "                                   levels=c('Female', 'Male'),\n",
    "                                   labels=c(1, 2)))"
   ]
  },
  {
   "cell_type": "code",
   "execution_count": 3,
   "metadata": {
    "vscode": {
     "languageId": "r"
    }
   },
   "outputs": [
    {
     "data": {
      "text/html": [
       "<table>\n",
       "<thead><tr><th scope=col>CreditScore</th><th scope=col>Geography</th><th scope=col>Gender</th><th scope=col>Age</th><th scope=col>Tenure</th><th scope=col>Balance</th><th scope=col>NumOfProducts</th><th scope=col>HasCrCard</th><th scope=col>IsActiveMember</th><th scope=col>EstimatedSalary</th><th scope=col>Exited</th></tr></thead>\n",
       "<tbody>\n",
       "\t<tr><td>619      </td><td>1        </td><td>1        </td><td>42       </td><td>2        </td><td>     0.00</td><td>1        </td><td>1        </td><td>1        </td><td>101348.88</td><td>1        </td></tr>\n",
       "\t<tr><td>608      </td><td>2        </td><td>1        </td><td>41       </td><td>1        </td><td> 83807.86</td><td>1        </td><td>0        </td><td>1        </td><td>112542.58</td><td>0        </td></tr>\n",
       "\t<tr><td>502      </td><td>1        </td><td>1        </td><td>42       </td><td>8        </td><td>159660.80</td><td>3        </td><td>1        </td><td>0        </td><td>113931.57</td><td>1        </td></tr>\n",
       "\t<tr><td>699      </td><td>1        </td><td>1        </td><td>39       </td><td>1        </td><td>     0.00</td><td>2        </td><td>0        </td><td>0        </td><td> 93826.63</td><td>0        </td></tr>\n",
       "\t<tr><td>850      </td><td>2        </td><td>1        </td><td>43       </td><td>2        </td><td>125510.82</td><td>1        </td><td>1        </td><td>1        </td><td> 79084.10</td><td>0        </td></tr>\n",
       "\t<tr><td>645      </td><td>2        </td><td>2        </td><td>44       </td><td>8        </td><td>113755.78</td><td>2        </td><td>1        </td><td>0        </td><td>149756.71</td><td>1        </td></tr>\n",
       "</tbody>\n",
       "</table>\n"
      ],
      "text/latex": [
       "\\begin{tabular}{r|lllllllllll}\n",
       " CreditScore & Geography & Gender & Age & Tenure & Balance & NumOfProducts & HasCrCard & IsActiveMember & EstimatedSalary & Exited\\\\\n",
       "\\hline\n",
       "\t 619       & 1         & 1         & 42        & 2         &      0.00 & 1         & 1         & 1         & 101348.88 & 1        \\\\\n",
       "\t 608       & 2         & 1         & 41        & 1         &  83807.86 & 1         & 0         & 1         & 112542.58 & 0        \\\\\n",
       "\t 502       & 1         & 1         & 42        & 8         & 159660.80 & 3         & 1         & 0         & 113931.57 & 1        \\\\\n",
       "\t 699       & 1         & 1         & 39        & 1         &      0.00 & 2         & 0         & 0         &  93826.63 & 0        \\\\\n",
       "\t 850       & 2         & 1         & 43        & 2         & 125510.82 & 1         & 1         & 1         &  79084.10 & 0        \\\\\n",
       "\t 645       & 2         & 2         & 44        & 8         & 113755.78 & 2         & 1         & 0         & 149756.71 & 1        \\\\\n",
       "\\end{tabular}\n"
      ],
      "text/markdown": [
       "\n",
       "| CreditScore | Geography | Gender | Age | Tenure | Balance | NumOfProducts | HasCrCard | IsActiveMember | EstimatedSalary | Exited |\n",
       "|---|---|---|---|---|---|---|---|---|---|---|\n",
       "| 619       | 1         | 1         | 42        | 2         |      0.00 | 1         | 1         | 1         | 101348.88 | 1         |\n",
       "| 608       | 2         | 1         | 41        | 1         |  83807.86 | 1         | 0         | 1         | 112542.58 | 0         |\n",
       "| 502       | 1         | 1         | 42        | 8         | 159660.80 | 3         | 1         | 0         | 113931.57 | 1         |\n",
       "| 699       | 1         | 1         | 39        | 1         |      0.00 | 2         | 0         | 0         |  93826.63 | 0         |\n",
       "| 850       | 2         | 1         | 43        | 2         | 125510.82 | 1         | 1         | 1         |  79084.10 | 0         |\n",
       "| 645       | 2         | 2         | 44        | 8         | 113755.78 | 2         | 1         | 0         | 149756.71 | 1         |\n",
       "\n"
      ],
      "text/plain": [
       "  CreditScore Geography Gender Age Tenure Balance   NumOfProducts HasCrCard\n",
       "1 619         1         1      42  2           0.00 1             1        \n",
       "2 608         2         1      41  1       83807.86 1             0        \n",
       "3 502         1         1      42  8      159660.80 3             1        \n",
       "4 699         1         1      39  1           0.00 2             0        \n",
       "5 850         2         1      43  2      125510.82 1             1        \n",
       "6 645         2         2      44  8      113755.78 2             1        \n",
       "  IsActiveMember EstimatedSalary Exited\n",
       "1 1              101348.88       1     \n",
       "2 1              112542.58       0     \n",
       "3 0              113931.57       1     \n",
       "4 0               93826.63       0     \n",
       "5 1               79084.10       0     \n",
       "6 0              149756.71       1     "
      ]
     },
     "metadata": {},
     "output_type": "display_data"
    }
   ],
   "source": [
    "head(dataset)"
   ]
  },
  {
   "cell_type": "markdown",
   "metadata": {},
   "source": [
    "## Splitting the dataset into the Training set and Test set"
   ]
  },
  {
   "cell_type": "code",
   "execution_count": 4,
   "metadata": {
    "vscode": {
     "languageId": "r"
    }
   },
   "outputs": [
    {
     "name": "stderr",
     "output_type": "stream",
     "text": [
      "Warning message:\n",
      "\"package 'caTools' was built under R version 3.6.3\""
     ]
    }
   ],
   "source": [
    "library(caTools)\n",
    "set.seed(123)\n",
    "\n",
    "split = sample.split(dataset$Exited, SplitRatio=0.8)\n",
    "training_set = subset(dataset, split == TRUE)\n",
    "test_set = subset(dataset, split == FALSE)"
   ]
  },
  {
   "cell_type": "markdown",
   "metadata": {},
   "source": [
    "## Fitting XGBoost to the Training set"
   ]
  },
  {
   "cell_type": "code",
   "execution_count": 5,
   "metadata": {
    "vscode": {
     "languageId": "r"
    }
   },
   "outputs": [],
   "source": [
    "# install.packages('xgboost')"
   ]
  },
  {
   "cell_type": "code",
   "execution_count": 7,
   "metadata": {
    "vscode": {
     "languageId": "r"
    }
   },
   "outputs": [
    {
     "name": "stdout",
     "output_type": "stream",
     "text": [
      "[1]\ttrain-rmse:0.417724 \n",
      "[2]\ttrain-rmse:0.369587 \n",
      "[3]\ttrain-rmse:0.342099 \n",
      "[4]\ttrain-rmse:0.325681 \n",
      "[5]\ttrain-rmse:0.316158 \n",
      "[6]\ttrain-rmse:0.310497 \n",
      "[7]\ttrain-rmse:0.305414 \n",
      "[8]\ttrain-rmse:0.303013 \n",
      "[9]\ttrain-rmse:0.300683 \n",
      "[10]\ttrain-rmse:0.298272 \n"
     ]
    }
   ],
   "source": [
    "library(xgboost)\n",
    "\n",
    "classifier = xgboost(data=as.matrix(training_set[-11]), label=training_set$Exited, nrounds=10)"
   ]
  },
  {
   "cell_type": "markdown",
   "metadata": {},
   "source": [
    "## Predicting the Test set results"
   ]
  },
  {
   "cell_type": "code",
   "execution_count": 10,
   "metadata": {
    "vscode": {
     "languageId": "r"
    }
   },
   "outputs": [
    {
     "data": {
      "text/html": [
       "<table>\n",
       "<thead><tr><th></th><th scope=col>Exited</th><th scope=col>y_pred</th></tr></thead>\n",
       "<tbody>\n",
       "\t<tr><th scope=row>2</th><td>0</td><td>0</td></tr>\n",
       "\t<tr><th scope=row>4</th><td>0</td><td>0</td></tr>\n",
       "\t<tr><th scope=row>8</th><td>1</td><td>1</td></tr>\n",
       "\t<tr><th scope=row>12</th><td>0</td><td>0</td></tr>\n",
       "\t<tr><th scope=row>13</th><td>0</td><td>0</td></tr>\n",
       "\t<tr><th scope=row>14</th><td>0</td><td>0</td></tr>\n",
       "</tbody>\n",
       "</table>\n"
      ],
      "text/latex": [
       "\\begin{tabular}{r|ll}\n",
       "  & Exited & y\\_pred\\\\\n",
       "\\hline\n",
       "\t2 & 0 & 0\\\\\n",
       "\t4 & 0 & 0\\\\\n",
       "\t8 & 1 & 1\\\\\n",
       "\t12 & 0 & 0\\\\\n",
       "\t13 & 0 & 0\\\\\n",
       "\t14 & 0 & 0\\\\\n",
       "\\end{tabular}\n"
      ],
      "text/markdown": [
       "\n",
       "| <!--/--> | Exited | y_pred |\n",
       "|---|---|---|\n",
       "| 2 | 0 | 0 |\n",
       "| 4 | 0 | 0 |\n",
       "| 8 | 1 | 1 |\n",
       "| 12 | 0 | 0 |\n",
       "| 13 | 0 | 0 |\n",
       "| 14 | 0 | 0 |\n",
       "\n"
      ],
      "text/plain": [
       "   Exited y_pred\n",
       "2  0      0     \n",
       "4  0      0     \n",
       "8  1      1     \n",
       "12 0      0     \n",
       "13 0      0     \n",
       "14 0      0     "
      ]
     },
     "metadata": {},
     "output_type": "display_data"
    }
   ],
   "source": [
    "y_pred = predict(classifier, newdata=as.matrix(test_set[-11]))\n",
    "y_pred = (y_pred >= 0.5)\n",
    "head(data.frame(y_test=test_set[11], y_pred=as.integer(y_pred)))"
   ]
  },
  {
   "cell_type": "markdown",
   "metadata": {},
   "source": [
    "## Making the Confusion Matrix"
   ]
  },
  {
   "cell_type": "code",
   "execution_count": 11,
   "metadata": {
    "vscode": {
     "languageId": "r"
    }
   },
   "outputs": [
    {
     "data": {
      "text/plain": [
       "   y_pred\n",
       "    FALSE TRUE\n",
       "  0  1541   52\n",
       "  1   211  196"
      ]
     },
     "metadata": {},
     "output_type": "display_data"
    }
   ],
   "source": [
    "cm = table(test_set[, 11], y_pred)\n",
    "cm"
   ]
  },
  {
   "cell_type": "markdown",
   "metadata": {},
   "source": [
    "## Applying k-Fold Cross Validation"
   ]
  },
  {
   "cell_type": "code",
   "execution_count": 15,
   "metadata": {
    "vscode": {
     "languageId": "r"
    }
   },
   "outputs": [],
   "source": [
    "library(caret)\n",
    "\n",
    "folds = createFolds(dataset$Exited, k=10)\n",
    "cv = lapply(folds, function(x) {\n",
    "                                training_fold=dataset[-x, ]\n",
    "                                test_fold=dataset[x, ]\n",
    "                                classifier=xgboost(data=as.matrix(training_fold[-11]), label=training_fold$Exited, nrounds=10, verbose=0)\n",
    "                                y_pred=predict(classifier, newdata=as.matrix(test_fold[-11]))\n",
    "                                y_pred=(y_pred >= 0.5)\n",
    "                                cm=table(test_fold[, 11], y_pred)\n",
    "                                accuracy=(cm[1,1] + cm[2,2]) / (cm[1,1] + cm[2,2] + cm[1,2] + cm[2,1])\n",
    "                                return(accuracy)\n",
    "                                })\n",
    "accuracy = mean(as.numeric(cv))"
   ]
  },
  {
   "cell_type": "code",
   "execution_count": 16,
   "metadata": {
    "vscode": {
     "languageId": "r"
    }
   },
   "outputs": [
    {
     "data": {
      "text/html": [
       "0.8629"
      ],
      "text/latex": [
       "0.8629"
      ],
      "text/markdown": [
       "0.8629"
      ],
      "text/plain": [
       "[1] 0.8629"
      ]
     },
     "metadata": {},
     "output_type": "display_data"
    }
   ],
   "source": [
    "accuracy"
   ]
  }
 ],
 "metadata": {
  "kernelspec": {
   "display_name": "R",
   "language": "R",
   "name": "ir"
  },
  "language_info": {
   "codemirror_mode": "r",
   "file_extension": ".r",
   "mimetype": "text/x-r-source",
   "name": "R",
   "pygments_lexer": "r",
   "version": "3.6.1"
  },
  "orig_nbformat": 4,
  "vscode": {
   "interpreter": {
    "hash": "3cfd106f785ae1e288da74ae733f9b47f8a2699db986927140be0bc196406f4c"
   }
  }
 },
 "nbformat": 4,
 "nbformat_minor": 2
}
